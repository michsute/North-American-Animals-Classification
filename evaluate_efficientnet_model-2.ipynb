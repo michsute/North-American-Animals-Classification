{
 "cells": [
  {
   "cell_type": "code",
   "execution_count": 1,
   "id": "ed2cf289-2da0-4b43-8f38-4e9e8908da8f",
   "metadata": {},
   "outputs": [],
   "source": [
    "import torch\n",
    "from torch.utils.data import DataLoader, random_split\n",
    "from torchvision import datasets, transforms"
   ]
  },
  {
   "cell_type": "code",
   "execution_count": 2,
   "id": "12766be2-c6fe-4aea-8a82-d326d9837f0f",
   "metadata": {},
   "outputs": [],
   "source": [
    "# convert images to PyTorch tensors\n",
    "transform = transforms.Compose([\n",
    "    transforms.Resize((128, 128)), \n",
    "    transforms.ToTensor(),\n",
    "    transforms.Normalize([0.485, 0.456, 0.406], [0.229, 0.224, 0.225])\n",
    "])"
   ]
  },
  {
   "cell_type": "code",
   "execution_count": 3,
   "id": "356f5f04-3dee-40ee-81a1-cda212dbc6a1",
   "metadata": {},
   "outputs": [],
   "source": [
    "data_dir = '/exchange/dspro01/group3/data/train' \n",
    "dataset = datasets.ImageFolder(root=data_dir, transform=transform) # assigns labels automatically according to folder's name\n"
   ]
  },
  {
   "cell_type": "code",
   "execution_count": 4,
   "id": "3d211f3e-611e-4126-9bb4-df3704c69952",
   "metadata": {},
   "outputs": [],
   "source": [
    "num_classes = 12            # number of categories\n",
    "num_epochs =  10           # set the number of epochs for training\n",
    "learning_rate = 0.001 "
   ]
  },
  {
   "cell_type": "code",
   "execution_count": 5,
   "id": "394ce4d9-300d-4750-96e4-19ff5d2058de",
   "metadata": {},
   "outputs": [
    {
     "data": {
      "text/plain": [
       "<torch._C.Generator at 0x7f6b644162f0>"
      ]
     },
     "execution_count": 5,
     "metadata": {},
     "output_type": "execute_result"
    }
   ],
   "source": [
    "# For reproducibility\n",
    "seed = 42\n",
    "torch.manual_seed(seed)"
   ]
  },
  {
   "cell_type": "code",
   "execution_count": 6,
   "id": "06a76964-ccf4-474f-8cf5-0c38a9dfbf1d",
   "metadata": {},
   "outputs": [],
   "source": [
    "total_size = len(dataset)\n",
    "train_size = int(0.8 * total_size)   \n",
    "val_size = int(0.2 * total_size)    "
   ]
  },
  {
   "cell_type": "code",
   "execution_count": 7,
   "id": "053a70f0-a5d6-446b-9305-adfcd44e7d13",
   "metadata": {},
   "outputs": [],
   "source": [
    "# Split\n",
    "generator = torch.Generator().manual_seed(seed) # reproducible\n",
    "train_dataset, val_dataset = random_split(\n",
    "    dataset, [train_size, val_size], generator=generator\n",
    ") "
   ]
  },
  {
   "cell_type": "code",
   "execution_count": 8,
   "id": "6ad367a4-086b-43ff-b81b-7248aaa4b973",
   "metadata": {},
   "outputs": [
    {
     "data": {
      "text/plain": [
       "True"
      ]
     },
     "execution_count": 8,
     "metadata": {},
     "output_type": "execute_result"
    }
   ],
   "source": [
    "len(train_dataset) == (2400 * 12 * 0.8)"
   ]
  },
  {
   "cell_type": "code",
   "execution_count": 9,
   "id": "929e51a2-d08d-461f-bbf5-b9d86fb70590",
   "metadata": {},
   "outputs": [],
   "source": [
    "batch_size = 32\n",
    "train_loader = DataLoader(train_dataset, batch_size=batch_size, shuffle=True, num_workers=8)\n",
    "val_loader = DataLoader(val_dataset, batch_size=batch_size, shuffle=False, num_workers=8)"
   ]
  },
  {
   "cell_type": "code",
   "execution_count": 13,
   "id": "078bb75e-3704-494a-afe7-44ab551561e2",
   "metadata": {},
   "outputs": [],
   "source": [
    "from torchvision import models\n",
    "from torchvision.models import EfficientNet_B0_Weights\n",
    "import torch.nn as nn\n",
    "import torch.optim as optim\n",
    "import torch"
   ]
  },
  {
   "cell_type": "code",
   "execution_count": 14,
   "id": "bda68f70-fa38-4b25-b270-7ad43fa5d715",
   "metadata": {},
   "outputs": [],
   "source": [
    "# Load EfficientNet model with weights\n",
    "weights = EfficientNet_B0_Weights.IMAGENET1K_V1  # Load pre-trained weights\n",
    "model = models.efficientnet_b0(weights=weights)"
   ]
  },
  {
   "cell_type": "code",
   "execution_count": 15,
   "id": "87cd66dc-5cba-4137-b3d2-77590c7fd217",
   "metadata": {},
   "outputs": [],
   "source": [
    "# Modify the classifier to match the number of classes (12 in this case)\n",
    "num_features = model.classifier[1].in_features\n",
    "model.classifier[1] = nn.Linear(num_features, 12)"
   ]
  },
  {
   "cell_type": "code",
   "execution_count": 16,
   "id": "f8e8d745-a645-418c-8480-cbecc6e97a44",
   "metadata": {},
   "outputs": [],
   "source": [
    "# Define the loss function\n",
    "criterion = nn.CrossEntropyLoss()"
   ]
  },
  {
   "cell_type": "code",
   "execution_count": 17,
   "id": "4d50363d-7fbe-4668-8650-82de12a57fe4",
   "metadata": {},
   "outputs": [],
   "source": [
    "# Define the optimizer\n",
    "optimizer = optim.Adam(model.parameters(), lr=0.001, weight_decay=1e-5)  # Adjust learning rate if necessary\n"
   ]
  },
  {
   "cell_type": "code",
   "execution_count": 18,
   "id": "d514f408-c976-4e0e-8286-b2fddc9a6db9",
   "metadata": {},
   "outputs": [],
   "source": [
    "# Define a learning rate scheduler\n",
    "scheduler = torch.optim.lr_scheduler.StepLR(optimizer, step_size=5, gamma=0.1)\n"
   ]
  },
  {
   "cell_type": "code",
   "execution_count": 19,
   "id": "90de2187-5b9d-4f57-b844-7a4acccbe284",
   "metadata": {},
   "outputs": [],
   "source": [
    "# Move the model to GPU\n",
    "device = torch.device(\"cuda:0\" if torch.cuda.is_available() else \"cpu\")\n",
    "model = model.to(device)"
   ]
  },
  {
   "cell_type": "code",
   "execution_count": 20,
   "id": "4a4c661b-3b3e-47d7-92e4-31e636f4249a",
   "metadata": {},
   "outputs": [],
   "source": [
    "# Dataloader dictionary (ensure train_loader and val_loader are defined)\n",
    "dataloaders = {'train': train_loader, 'val': val_loader}\n"
   ]
  },
  {
   "cell_type": "code",
   "execution_count": 21,
   "id": "fda60b05-ecac-4561-a4fb-37edd27735aa",
   "metadata": {},
   "outputs": [],
   "source": [
    "# Dataset sizes (ensure train_dataset and val_dataset are defined)\n",
    "dataset_sizes = {'train': len(train_dataset), 'val': len(val_dataset)}\n"
   ]
  },
  {
   "cell_type": "code",
   "execution_count": 22,
   "id": "34af1f7e-8392-4d5f-b326-ee9291b6d81e",
   "metadata": {},
   "outputs": [
    {
     "name": "stdout",
     "output_type": "stream",
     "text": [
      "Epoch 1/10\n",
      "----------\n",
      "train Loss: 0.8497 Acc: 0.7080\n",
      "val Loss: 0.6185 Acc: 0.7903\n",
      "Epoch 2/10\n",
      "----------\n",
      "train Loss: 0.5362 Acc: 0.8163\n",
      "val Loss: 0.5074 Acc: 0.8306\n",
      "Epoch 3/10\n",
      "----------\n",
      "train Loss: 0.4248 Acc: 0.8529\n",
      "val Loss: 0.4515 Acc: 0.8479\n",
      "Epoch 4/10\n",
      "----------\n",
      "train Loss: 0.3503 Acc: 0.8799\n",
      "val Loss: 0.4736 Acc: 0.8415\n",
      "Epoch 5/10\n",
      "----------\n",
      "train Loss: 0.3012 Acc: 0.8969\n",
      "val Loss: 0.4734 Acc: 0.8521\n",
      "Epoch 6/10\n",
      "----------\n",
      "train Loss: 0.1404 Acc: 0.9521\n",
      "val Loss: 0.3833 Acc: 0.8941\n",
      "Epoch 7/10\n",
      "----------\n",
      "train Loss: 0.0828 Acc: 0.9733\n",
      "val Loss: 0.4123 Acc: 0.8929\n",
      "Epoch 8/10\n",
      "----------\n",
      "train Loss: 0.0573 Acc: 0.9826\n",
      "val Loss: 0.4361 Acc: 0.8972\n",
      "Epoch 9/10\n",
      "----------\n",
      "train Loss: 0.0435 Acc: 0.9865\n",
      "val Loss: 0.4823 Acc: 0.8955\n",
      "Epoch 10/10\n",
      "----------\n",
      "train Loss: 0.0343 Acc: 0.9895\n",
      "val Loss: 0.4988 Acc: 0.8953\n",
      "Training complete\n"
     ]
    }
   ],
   "source": [
    "# Training loop\n",
    "for epoch in range(num_epochs):\n",
    "    print(f'Epoch {epoch+1}/{num_epochs}')\n",
    "    print('-' * 10)\n",
    "\n",
    "    for phase in ['train', 'val']:\n",
    "        if phase == 'train':\n",
    "            model.train()  # Set model to training mode\n",
    "        else:\n",
    "            model.eval()   # Set model to evaluation mode\n",
    "\n",
    "        running_loss = 0.0\n",
    "        running_corrects = 0\n",
    "\n",
    "        # Iterate over data\n",
    "        for inputs, labels in dataloaders[phase]:\n",
    "            inputs = inputs.to(device)\n",
    "            labels = labels.to(device)\n",
    "\n",
    "            # Zero the parameter gradients\n",
    "            optimizer.zero_grad()\n",
    "\n",
    "            # Forward pass\n",
    "            with torch.set_grad_enabled(phase == 'train'):\n",
    "                outputs = model(inputs)\n",
    "                _, preds = torch.max(outputs, 1)\n",
    "                loss = criterion(outputs, labels)\n",
    "\n",
    "                # Backward pass and optimization (only in training phase)\n",
    "                if phase == 'train':\n",
    "                    loss.backward()\n",
    "                    optimizer.step()\n",
    "\n",
    "            # Statistics\n",
    "            running_loss += loss.item() * inputs.size(0)\n",
    "            running_corrects += torch.sum(preds == labels.data)\n",
    "\n",
    "        # Calculate epoch loss and accuracy\n",
    "        epoch_loss = running_loss / dataset_sizes[phase]\n",
    "        epoch_acc = running_corrects.double() / dataset_sizes[phase]\n",
    "\n",
    "        print(f'{phase} Loss: {epoch_loss:.4f} Acc: {epoch_acc:.4f}')\n",
    "        if phase == 'train':\n",
    "            scheduler.step()\n",
    "\n",
    "print('Training complete')"
   ]
  },
  {
   "cell_type": "code",
   "execution_count": null,
   "id": "36d0af1b-95e1-4b45-9462-b5f8cec15587",
   "metadata": {},
   "outputs": [],
   "source": []
  }
 ],
 "metadata": {
  "kernelspec": {
   "display_name": "Python 3 (ipykernel)",
   "language": "python",
   "name": "python3"
  },
  "language_info": {
   "codemirror_mode": {
    "name": "ipython",
    "version": 3
   },
   "file_extension": ".py",
   "mimetype": "text/x-python",
   "name": "python",
   "nbconvert_exporter": "python",
   "pygments_lexer": "ipython3",
   "version": "3.11.9"
  }
 },
 "nbformat": 4,
 "nbformat_minor": 5
}
