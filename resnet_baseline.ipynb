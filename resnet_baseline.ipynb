{
 "cells": [
  {
   "cell_type": "markdown",
   "id": "0029cc2d-c7e5-4746-b642-838eb5d74f0c",
   "metadata": {},
   "source": [
    "# Data split"
   ]
  },
  {
   "cell_type": "code",
   "execution_count": 31,
   "id": "816cf8e3-4d38-461c-a622-354da960c3e8",
   "metadata": {},
   "outputs": [],
   "source": [
    "import torch\n",
    "from torch.utils.data import DataLoader, random_split\n",
    "from torchvision import datasets, transforms"
   ]
  },
  {
   "cell_type": "code",
   "execution_count": 32,
   "id": "014b162d-9096-4068-a4f4-db73368c5c80",
   "metadata": {},
   "outputs": [],
   "source": [
    "# convert images to PyTorch tensors\n",
    "transform = transforms.Compose([\n",
    "    transforms.Resize((128, 128)), \n",
    "    transforms.ToTensor(),\n",
    "    transforms.Normalize([0.485, 0.456, 0.406], [0.229, 0.224, 0.225])\n",
    "])\n"
   ]
  },
  {
   "cell_type": "code",
   "execution_count": 33,
   "id": "fece6847-5193-4995-b4be-3d2a3f82f610",
   "metadata": {},
   "outputs": [],
   "source": [
    "data_dir = '/exchange/dspro01/group3/data/train' \n",
    "dataset = datasets.ImageFolder(root=data_dir, transform=transform) # assigns labels automatically according to folder's name\n"
   ]
  },
  {
   "cell_type": "code",
   "execution_count": 50,
   "id": "d01a0127-f0a1-4a79-9509-bf79f04d41fb",
   "metadata": {},
   "outputs": [],
   "source": [
    "num_classes = 12            # number of categories\n",
    "num_epochs =  25          # set the number of epochs for training # TODO AUGMENT TO 25\n",
    "learning_rate = 0.001 "
   ]
  },
  {
   "cell_type": "code",
   "execution_count": 35,
   "id": "153d4f40-7dee-4403-a577-ed0360000c28",
   "metadata": {},
   "outputs": [
    {
     "data": {
      "text/plain": [
       "<torch._C.Generator at 0x7fa07c7a24d0>"
      ]
     },
     "execution_count": 35,
     "metadata": {},
     "output_type": "execute_result"
    }
   ],
   "source": [
    "# For reproducibility\n",
    "seed = 42\n",
    "torch.manual_seed(seed)"
   ]
  },
  {
   "cell_type": "code",
   "execution_count": 36,
   "id": "88491ef9-29dc-497e-89d6-f957bc641a55",
   "metadata": {},
   "outputs": [],
   "source": [
    "total_size = len(dataset)\n",
    "train_size = int(0.8 * total_size)   \n",
    "val_size = int(0.2 * total_size)     \n"
   ]
  },
  {
   "cell_type": "code",
   "execution_count": 37,
   "id": "8d03f7ea-3e64-4785-8552-036e7c4f11cf",
   "metadata": {},
   "outputs": [],
   "source": [
    "# Split\n",
    "generator = torch.Generator().manual_seed(seed) # For reproducibility\n",
    "train_dataset, val_dataset = random_split(dataset, [train_size, val_size], generator=generator) "
   ]
  },
  {
   "cell_type": "code",
   "execution_count": 38,
   "id": "6db1eb9e-ea1a-4530-a85b-d6b1db65757a",
   "metadata": {},
   "outputs": [
    {
     "data": {
      "text/plain": [
       "True"
      ]
     },
     "execution_count": 38,
     "metadata": {},
     "output_type": "execute_result"
    }
   ],
   "source": [
    "len(train_dataset) == (2400 * 12 * 0.8)"
   ]
  },
  {
   "cell_type": "code",
   "execution_count": 39,
   "id": "e72f1dd8-906e-4dd5-8073-261419a2ed6d",
   "metadata": {},
   "outputs": [],
   "source": [
    "batch_size = 32\n",
    "train_loader = DataLoader(train_dataset, batch_size=batch_size, shuffle=True, num_workers=8)\n",
    "val_loader = DataLoader(val_dataset, batch_size=batch_size, shuffle=False, num_workers=8)\n"
   ]
  },
  {
   "cell_type": "code",
   "execution_count": null,
   "id": "1efd8f7a-d9d9-4cbb-8252-30cb46dfbc42",
   "metadata": {},
   "outputs": [],
   "source": []
  },
  {
   "cell_type": "markdown",
   "id": "4f367360-b7fe-4eff-a31d-0ee9d657e90b",
   "metadata": {},
   "source": [
    "# Model"
   ]
  },
  {
   "cell_type": "code",
   "execution_count": 40,
   "id": "02af834b-0a20-473a-83f1-f023c439d2de",
   "metadata": {},
   "outputs": [],
   "source": [
    "from torchvision import models\n",
    "import torch.nn as nn"
   ]
  },
  {
   "cell_type": "code",
   "execution_count": 41,
   "id": "af798295-6fa7-443c-89c2-9ec8f4b5e400",
   "metadata": {},
   "outputs": [
    {
     "name": "stderr",
     "output_type": "stream",
     "text": [
      "/opt/conda/lib/python3.11/site-packages/torchvision/models/_utils.py:208: UserWarning: The parameter 'pretrained' is deprecated since 0.13 and may be removed in the future, please use 'weights' instead.\n",
      "  warnings.warn(\n",
      "/opt/conda/lib/python3.11/site-packages/torchvision/models/_utils.py:223: UserWarning: Arguments other than a weight enum or `None` for 'weights' are deprecated since 0.13 and may be removed in the future. The current behavior is equivalent to passing `weights=ResNet50_Weights.IMAGENET1K_V1`. You can also use `weights=ResNet50_Weights.DEFAULT` to get the most up-to-date weights.\n",
      "  warnings.warn(msg)\n"
     ]
    }
   ],
   "source": [
    "# Load model\n",
    "model = models.resnet50(pretrained=True)\n",
    "\n",
    "num_features = model.fc.in_features # Retrieves the number of input features from the current final layer (fc) of the model\n",
    "model.fc = nn.Linear(num_features, num_classes) # Replaces the existing final layer with a new nn.Linear layer. Full connected - could add more layers"
   ]
  },
  {
   "cell_type": "code",
   "execution_count": 43,
   "id": "72ec0e06-5988-4a1b-b1aa-4e27d4e17969",
   "metadata": {},
   "outputs": [],
   "source": [
    "import torch.optim as optim\n",
    "\n",
    "criterion = nn.CrossEntropyLoss() # Loss function suiting classification problems\n",
    "\n",
    "optimizer = optim.Adam(model.parameters(), lr=0.001, weight_decay=1e-5)  \n",
    "# Initial learning rate of 0.001\n",
    "# weight_decay corresponds to the L2 regularization. Prevents overfitting by penalizing large weight values.\n",
    "\n",
    "scheduler = torch.optim.lr_scheduler.StepLR(optimizer, step_size=5, gamma=0.1) \n",
    "# optim = type of learning rate being used\n",
    "# optimizer = optimizer whose learning rates are being adjusted\n",
    "# Step size = number of epochs between parameters adjustments\n",
    "# gamma = The factor by which the learning rate is reduced at each step."
   ]
  },
  {
   "cell_type": "code",
   "execution_count": 44,
   "id": "74990e4f-b310-41cc-a2b7-3df773c18878",
   "metadata": {},
   "outputs": [],
   "source": [
    "# Move the model to a GPU\n",
    "device = torch.device(\"cuda:0\" if torch.cuda.is_available() else \"cpu\")\n",
    "model = model.to(device)"
   ]
  },
  {
   "cell_type": "code",
   "execution_count": 45,
   "id": "3e2fc66c-b00b-4fb3-82f9-d678a44beb79",
   "metadata": {},
   "outputs": [],
   "source": [
    "# Create dataloaders dictionary\n",
    "dataloaders = {'train': train_loader, 'val': val_loader}"
   ]
  },
  {
   "cell_type": "code",
   "execution_count": 46,
   "id": "57839e23-1cfc-404b-a156-bec495f5df27",
   "metadata": {},
   "outputs": [],
   "source": [
    "# Create dataset_sizes dictionary for calculating losses and accuracies\n",
    "dataset_sizes = {'train': len(train_dataset), 'val': len(val_dataset)}"
   ]
  },
  {
   "cell_type": "code",
   "execution_count": 47,
   "id": "c1e08650-7174-4fc9-9515-a64fb53e7211",
   "metadata": {},
   "outputs": [],
   "source": [
    "# TODO running variable. If x last epochs were not better, then stop."
   ]
  },
  {
   "cell_type": "code",
   "execution_count": 51,
   "id": "f26e306e-2af9-4ddf-888e-b0e3faf0c32c",
   "metadata": {
    "scrolled": true
   },
   "outputs": [
    {
     "name": "stdout",
     "output_type": "stream",
     "text": [
      "Epoch 1/25\n",
      "----------\n",
      "train Loss: 0.5851 Acc: 0.7947\n",
      "val Loss: 0.6989 Acc: 0.7590\n",
      "Epoch 2/25\n",
      "----------\n",
      "train Loss: 0.5088 Acc: 0.8201\n",
      "val Loss: 0.7097 Acc: 0.7519\n",
      "Epoch 3/25\n",
      "----------\n",
      "train Loss: 0.2704 Acc: 0.9098\n",
      "val Loss: 0.4266 Acc: 0.8561\n",
      "Saved best model at epoch 3 with validation accuracy: 0.8561\n",
      "Epoch 4/25\n",
      "----------\n",
      "train Loss: 0.1760 Acc: 0.9422\n",
      "val Loss: 0.4446 Acc: 0.8623\n",
      "Saved best model at epoch 4 with validation accuracy: 0.8623\n",
      "Epoch 5/25\n",
      "----------\n",
      "train Loss: 0.1197 Acc: 0.9612\n",
      "val Loss: 0.4739 Acc: 0.8642\n",
      "Saved best model at epoch 5 with validation accuracy: 0.8642\n",
      "Epoch 6/25\n",
      "----------\n",
      "train Loss: 0.0756 Acc: 0.9776\n",
      "val Loss: 0.5494 Acc: 0.8594\n",
      "Epoch 7/25\n",
      "----------\n",
      "train Loss: 0.0527 Acc: 0.9835\n",
      "val Loss: 0.5716 Acc: 0.8623\n",
      "Epoch 8/25\n",
      "----------\n",
      "train Loss: 0.0277 Acc: 0.9927\n",
      "val Loss: 0.5788 Acc: 0.8694\n",
      "Saved best model at epoch 8 with validation accuracy: 0.8694\n",
      "Epoch 9/25\n",
      "----------\n",
      "train Loss: 0.0212 Acc: 0.9944\n",
      "val Loss: 0.5972 Acc: 0.8686\n",
      "Epoch 10/25\n",
      "----------\n",
      "train Loss: 0.0177 Acc: 0.9954\n",
      "val Loss: 0.6223 Acc: 0.8698\n",
      "Saved best model at epoch 10 with validation accuracy: 0.8698\n",
      "Epoch 11/25\n",
      "----------\n",
      "train Loss: 0.0136 Acc: 0.9969\n",
      "val Loss: 0.6498 Acc: 0.8694\n",
      "Epoch 12/25\n",
      "----------\n",
      "train Loss: 0.0117 Acc: 0.9974\n",
      "val Loss: 0.6807 Acc: 0.8684\n",
      "Epoch 13/25\n",
      "----------\n",
      "train Loss: 0.0092 Acc: 0.9982\n",
      "val Loss: 0.6828 Acc: 0.8689\n",
      "Epoch 14/25\n",
      "----------\n",
      "train Loss: 0.0098 Acc: 0.9981\n",
      "val Loss: 0.6956 Acc: 0.8691\n",
      "Epoch 15/25\n",
      "----------\n",
      "train Loss: 0.0085 Acc: 0.9984\n",
      "val Loss: 0.6855 Acc: 0.8674\n",
      "Epoch 16/25\n",
      "----------\n",
      "train Loss: 0.0085 Acc: 0.9985\n",
      "val Loss: 0.6987 Acc: 0.8679\n",
      "Epoch 17/25\n",
      "----------\n",
      "train Loss: 0.0083 Acc: 0.9985\n",
      "val Loss: 0.6992 Acc: 0.8684\n",
      "Epoch 18/25\n",
      "----------\n",
      "train Loss: 0.0092 Acc: 0.9980\n",
      "val Loss: 0.7014 Acc: 0.8689\n",
      "Epoch 19/25\n",
      "----------\n",
      "train Loss: 0.0085 Acc: 0.9984\n",
      "val Loss: 0.7008 Acc: 0.8681\n",
      "Epoch 20/25\n",
      "----------\n",
      "train Loss: 0.0088 Acc: 0.9984\n",
      "val Loss: 0.6963 Acc: 0.8696\n",
      "Epoch 21/25\n",
      "----------\n",
      "train Loss: 0.0082 Acc: 0.9986\n",
      "val Loss: 0.7006 Acc: 0.8681\n",
      "Epoch 22/25\n",
      "----------\n",
      "train Loss: 0.0078 Acc: 0.9988\n",
      "val Loss: 0.6985 Acc: 0.8688\n",
      "Epoch 23/25\n",
      "----------\n",
      "train Loss: 0.0083 Acc: 0.9984\n",
      "val Loss: 0.7033 Acc: 0.8693\n",
      "Epoch 24/25\n",
      "----------\n",
      "train Loss: 0.0087 Acc: 0.9981\n",
      "val Loss: 0.7009 Acc: 0.8696\n",
      "Epoch 25/25\n",
      "----------\n",
      "train Loss: 0.0087 Acc: 0.9981\n",
      "val Loss: 0.7044 Acc: 0.8668\n",
      "Training complete\n"
     ]
    }
   ],
   "source": [
    "train_losses = []\n",
    "val_losses = []\n",
    "train_accuracies = []\n",
    "val_accuracies = []\n",
    "\n",
    "# Initialize variables to track the best model\n",
    "best_val_loss = 0.0\n",
    "best_model_path = 'best_model.pth'\n",
    "\n",
    "\n",
    "\n",
    "for epoch in range(num_epochs):\n",
    "    print(f'Epoch {epoch+1}/{num_epochs}')\n",
    "    print('-' * 10)\n",
    "    \n",
    "    for phase in ['train', 'val']: # TODO SPLIT IN TWO LOOPS\n",
    "        if phase == 'train':\n",
    "            model.train()  # Set model to training mode\n",
    "        else:\n",
    "            model.eval()   # Set model to evaluation mode\n",
    "\n",
    "        running_loss = 0.0 # loss between each epoch\n",
    "        running_corrects = 0 # number of correct per epoch\n",
    "\n",
    "        # Iterate over batches\n",
    "        for inputs, labels in dataloaders[phase]: # TODO! is applying the transformation at every epoch. \n",
    "            #TODO Take out of the loop (nice to have)\n",
    "            # Move data to the device GPU\n",
    "            inputs = inputs.to(device) \n",
    "            labels = labels.to(device)\n",
    "\n",
    "            # Resets the gradients of all parameters to zero before the backward pass.\n",
    "            optimizer.zero_grad()\n",
    "\n",
    "            # Forward pass\n",
    "            with torch.set_grad_enabled(phase == 'train'): # if train phase, set gradient\n",
    "                outputs = model(inputs) # Passes the input in the Resnet model\n",
    "                # outputs contains the raw predictions of the model for each input\n",
    "                \n",
    "                _, preds = torch.max(outputs, 1) \n",
    "                # Returns the maximum from the outputs, with dimension 1 and a slot for each class\n",
    "                # Returns 2 tensors: maximum value and its index\n",
    "                # _ discards the maximum value \n",
    "                # Only the index is kept in preds\n",
    "                \n",
    "                loss = criterion(outputs, labels) \n",
    "                # Computes loss function between outputs and labels\n",
    "                # Refers to the CrossEntropy loss function defined above\n",
    "\n",
    "                #  Backpropagation and update the model parameters during training.\n",
    "                if phase == 'train':\n",
    "                    loss.backward()\n",
    "                    optimizer.step() # in which direction to go - -gradient\n",
    "            \n",
    "            # Statistics\n",
    "            running_loss += loss.item() * inputs.size(0) # for input size (last batch might be smaller, remaining data)\n",
    "            running_corrects += torch.sum(preds == labels.data)  # if the label of the data matches the predictions true\n",
    "            # Sums all the correct answers\n",
    "            # In the end, for the epoch because +=\n",
    "\n",
    "        epoch_loss = running_loss / dataset_sizes[phase] # ok even for last batch if smaller? \n",
    "        epoch_acc = running_corrects.double() / dataset_sizes[phase]\n",
    "\n",
    "        print(f'{phase} Loss: {epoch_loss:.4f} Acc: {epoch_acc:.4f}')\n",
    "\n",
    "            # Save the metrics\n",
    "        if phase == 'train':\n",
    "            train_losses.append(epoch_loss)\n",
    "            train_accuracies.append(epoch_acc.item())\n",
    "        else:\n",
    "            val_losses.append(epoch_loss)\n",
    "            val_accuracies.append(epoch_acc.item())\n",
    "\n",
    "\n",
    "        # Save the best model based on validation accuracy\n",
    "        if phase == 'val' and epoch_acc > best_val_accuracy:\n",
    "            best_val_accuracy = epoch_acc\n",
    "            torch.save({\n",
    "                'epoch': epoch + 1,\n",
    "                'model_state_dict': model.state_dict(),\n",
    "                'optimizer_state_dict': optimizer.state_dict(),\n",
    "                'scheduler_state_dict': scheduler.state_dict(),\n",
    "                'accuracy': best_val_accuracy,\n",
    "            }, best_model_path)\n",
    "            print(f'Saved best model at epoch {epoch + 1} with validation accuracy: {best_val_accuracy:.4f}')\n",
    "    \n",
    "    scheduler.step() \n",
    "        \n",
    "print('Training complete')\n",
    "\n",
    "# TODO save best model (OR its variables) in the loop based on best accuracy or loss of the validation set\n"
   ]
  },
  {
   "cell_type": "markdown",
   "id": "2724e7e4-1123-491d-8eb5-19a24bef40df",
   "metadata": {},
   "source": [
    "# Visualization"
   ]
  },
  {
   "cell_type": "code",
   "execution_count": 59,
   "id": "888c2ff8-e73b-4fc7-9aed-42cd84911cd2",
   "metadata": {},
   "outputs": [
    {
     "data": {
      "image/png": "[encoded data removed]",
      "text/plain": [
       "<Figure size 1000x500 with 2 Axes>"
      ]
     },
     "metadata": {},
     "output_type": "display_data"
    },
    {
     "name": "stdout",
     "output_type": "stream",
     "text": [
      "Best validation accuracy: 0.8698 (Epoch 13)\n",
      "Final accuracy gap (train - val): 0.1313\n"
     ]
    }
   ],
   "source": [
    "import matplotlib.pyplot as plt\n",
    "import numpy as np\n",
    "\n",
    "# Data from your training output\n",
    "epochs = range(1, (num_epochs+1)+3)\n",
    "           \n",
    "# Create a figure with two subplots\n",
    "fig, (ax1, ax2) = plt.subplots(2, 1, figsize=(10, 5))\n",
    "fig.suptitle('Training and Validation Metrics', fontsize=16)\n",
    "\n",
    "# Plot training & validation loss values\n",
    "ax1.plot(epochs, train_losses, 'b-', label='Training Loss')\n",
    "ax1.plot(epochs, val_losses, 'r-', label='Validation Loss')\n",
    "ax1.set_title('Model Loss')\n",
    "ax1.set_xlabel('Epoch')\n",
    "ax1.set_ylabel('Loss')\n",
    "ax1.legend()\n",
    "\n",
    "# Plot training & validation accuracy values\n",
    "ax2.plot(epochs, train_accuracies, 'b-', label='Training Accuracy')\n",
    "ax2.plot(epochs, val_accuracies, 'r-', label='Validation Accuracy')\n",
    "ax2.set_title('Model Accuracy')\n",
    "ax2.set_xlabel('Epoch')\n",
    "ax2.set_ylabel('Accuracy')\n",
    "ax2.legend()\n",
    "\n",
    "# Adjust layout and display the plot\n",
    "plt.tight_layout()\n",
    "plt.show()\n",
    "\n",
    "# Calculate and print best validation accuracy\n",
    "best_val_accuracy = max(val_accuracies)\n",
    "best_epoch = val_accuracies.index(best_val_accuracy) + 1\n",
    "print(f\"Best validation accuracy: {best_val_accuracy:.4f} (Epoch {best_epoch})\")\n",
    "\n",
    "# Calculate and print final training-validation gap\n",
    "final_train_acc = train_accuracies[-1]\n",
    "final_val_acc = val_accuracies[-1]\n",
    "acc_gap = final_train_acc - final_val_acc\n",
    "print(f\"Final accuracy gap (train - val): {acc_gap:.4f}\")\n"
   ]
  },
  {
   "cell_type": "markdown",
   "id": "e2b32d99-db57-408c-86bf-d0e0d80660a3",
   "metadata": {},
   "source": [
    "# Use trained model"
   ]
  },
  {
   "cell_type": "code",
   "execution_count": null,
   "id": "dd43b340-da60-41dd-ac02-d45ad7e6419d",
   "metadata": {},
   "outputs": [],
   "source": [
    "# Assuming you have a model class defined\n",
    "model = YourModelClass()  # Replace with your model class\n",
    "model.load_state_dict(torch.load('best_model.pth'))  # Load the saved weights\n",
    "model.eval()  # Set the model to evaluation mode\n"
   ]
  }
 ],
 "metadata": {
  "kernelspec": {
   "display_name": "Python 3 (ipykernel)",
   "language": "python",
   "name": "python3"
  },
  "language_info": {
   "codemirror_mode": {
    "name": "ipython",
    "version": 3
   },
   "file_extension": ".py",
   "mimetype": "text/x-python",
   "name": "python",
   "nbconvert_exporter": "python",
   "pygments_lexer": "ipython3",
   "version": "3.11.9"
  }
 },
 "nbformat": 4,
 "nbformat_minor": 5
}
