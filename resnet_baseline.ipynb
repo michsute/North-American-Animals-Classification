{
 "cells": [
  {
   "cell_type": "markdown",
   "id": "0029cc2d-c7e5-4746-b642-838eb5d74f0c",
   "metadata": {},
   "source": [
    "# Data split"
   ]
  },
  {
   "cell_type": "code",
   "execution_count": 1,
   "id": "816cf8e3-4d38-461c-a622-354da960c3e8",
   "metadata": {},
   "outputs": [],
   "source": [
    "import torch\n",
    "from torch.utils.data import DataLoader, random_split\n",
    "from torchvision import datasets, transforms"
   ]
  },
  {
   "cell_type": "code",
   "execution_count": 2,
   "id": "014b162d-9096-4068-a4f4-db73368c5c80",
   "metadata": {},
   "outputs": [],
   "source": [
    "# convert images to PyTorch tensors\n",
    "transform = transforms.Compose([\n",
    "    transforms.Resize((128, 128)), \n",
    "    transforms.ToTensor(),\n",
    "    transforms.Normalize([0.485, 0.456, 0.406], [0.229, 0.224, 0.225])\n",
    "])\n"
   ]
  },
  {
   "cell_type": "code",
   "execution_count": 3,
   "id": "fece6847-5193-4995-b4be-3d2a3f82f610",
   "metadata": {},
   "outputs": [],
   "source": [
    "data_dir = '/exchange/dspro01/group3/data/train' \n",
    "dataset = datasets.ImageFolder(root=data_dir, transform=transform) # assigns labels automatically according to folder's name\n"
   ]
  },
  {
   "cell_type": "code",
   "execution_count": 1,
   "id": "d01a0127-f0a1-4a79-9509-bf79f04d41fb",
   "metadata": {},
   "outputs": [],
   "source": [
    "num_classes = 12            # number of categories\n",
    "num_epochs =  3           # set the number of epochs for training # TODO AUGMENT TO 25\n",
    "learning_rate = 0.001 "
   ]
  },
  {
   "cell_type": "code",
   "execution_count": 5,
   "id": "153d4f40-7dee-4403-a577-ed0360000c28",
   "metadata": {},
   "outputs": [
    {
     "data": {
      "text/plain": [
       "<torch._C.Generator at 0x7ff3dd5c62f0>"
      ]
     },
     "execution_count": 5,
     "metadata": {},
     "output_type": "execute_result"
    }
   ],
   "source": [
    "# For reproducibility\n",
    "seed = 42\n",
    "torch.manual_seed(seed)"
   ]
  },
  {
   "cell_type": "code",
   "execution_count": 6,
   "id": "88491ef9-29dc-497e-89d6-f957bc641a55",
   "metadata": {},
   "outputs": [],
   "source": [
    "total_size = len(dataset)\n",
    "train_size = int(0.8 * total_size)   \n",
    "val_size = int(0.2 * total_size)     \n"
   ]
  },
  {
   "cell_type": "code",
   "execution_count": 7,
   "id": "8d03f7ea-3e64-4785-8552-036e7c4f11cf",
   "metadata": {},
   "outputs": [],
   "source": [
    "# Split\n",
    "generator = torch.Generator().manual_seed(seed) # reproducible\n",
    "train_dataset, val_dataset = random_split(\n",
    "    dataset, [train_size, val_size], generator=generator\n",
    ") "
   ]
  },
  {
   "cell_type": "code",
   "execution_count": 8,
   "id": "6db1eb9e-ea1a-4530-a85b-d6b1db65757a",
   "metadata": {},
   "outputs": [
    {
     "data": {
      "text/plain": [
       "True"
      ]
     },
     "execution_count": 8,
     "metadata": {},
     "output_type": "execute_result"
    }
   ],
   "source": [
    "len(train_dataset) == (2400 * 12 * 0.8)"
   ]
  },
  {
   "cell_type": "code",
   "execution_count": 9,
   "id": "e72f1dd8-906e-4dd5-8073-261419a2ed6d",
   "metadata": {},
   "outputs": [],
   "source": [
    "batch_size = 32\n",
    "train_loader = DataLoader(train_dataset, batch_size=batch_size, shuffle=True, num_workers=8)\n",
    "val_loader = DataLoader(val_dataset, batch_size=batch_size, shuffle=False, num_workers=8)\n"
   ]
  },
  {
   "cell_type": "code",
   "execution_count": null,
   "id": "1efd8f7a-d9d9-4cbb-8252-30cb46dfbc42",
   "metadata": {},
   "outputs": [],
   "source": []
  },
  {
   "cell_type": "markdown",
   "id": "4f367360-b7fe-4eff-a31d-0ee9d657e90b",
   "metadata": {},
   "source": [
    "# Model"
   ]
  },
  {
   "cell_type": "code",
   "execution_count": 10,
   "id": "02af834b-0a20-473a-83f1-f023c439d2de",
   "metadata": {},
   "outputs": [],
   "source": [
    "from torchvision import models\n",
    "import torch.nn as nn"
   ]
  },
  {
   "cell_type": "code",
   "execution_count": 11,
   "id": "af798295-6fa7-443c-89c2-9ec8f4b5e400",
   "metadata": {},
   "outputs": [
    {
     "name": "stderr",
     "output_type": "stream",
     "text": [
      "/opt/conda/lib/python3.11/site-packages/torchvision/models/_utils.py:208: UserWarning: The parameter 'pretrained' is deprecated since 0.13 and may be removed in the future, please use 'weights' instead.\n",
      "  warnings.warn(\n",
      "/opt/conda/lib/python3.11/site-packages/torchvision/models/_utils.py:223: UserWarning: Arguments other than a weight enum or `None` for 'weights' are deprecated since 0.13 and may be removed in the future. The current behavior is equivalent to passing `weights=ResNet50_Weights.IMAGENET1K_V1`. You can also use `weights=ResNet50_Weights.DEFAULT` to get the most up-to-date weights.\n",
      "  warnings.warn(msg)\n"
     ]
    }
   ],
   "source": [
    "# Load model\n",
    "model = models.resnet50(pretrained=True)\n",
    "\n",
    "num_features = model.fc.in_features # Retrieves the number of input features from the current final layer (fc) of the model\n",
    "model.fc = nn.Linear(num_features, 12) # Replaces the existing final layer with a new nn.Linear layer. Full connected - could add more layers"
   ]
  },
  {
   "cell_type": "code",
   "execution_count": 12,
   "id": "72ec0e06-5988-4a1b-b1aa-4e27d4e17969",
   "metadata": {},
   "outputs": [],
   "source": [
    "import torch.optim as optim\n",
    "\n",
    "criterion = nn.CrossEntropyLoss() # Loss function suiting classification problems\n",
    "\n",
    "optimizer = optim.Adam(model.parameters(), lr=0.001, weight_decay=1e-5)  \n",
    "# Initial learning rate of 0.001\n",
    "# weight_decay corresponds to the L2 regularization. Prevents overfitting by penalizing large weight values.\n",
    "\n",
    "scheduler = torch.optim.lr_scheduler.StepLR(optimizer, step_size=5, gamma=0.1) \n",
    "# optim = type of learning rate being used\n",
    "# optimizer = optimizer whose learning rates are being adjusted\n",
    "# Step size = number of epochs between parameters adjustments\n",
    "# gamma = The factor by which the learning rate is reduced at each step."
   ]
  },
  {
   "cell_type": "code",
   "execution_count": 13,
   "id": "74990e4f-b310-41cc-a2b7-3df773c18878",
   "metadata": {},
   "outputs": [],
   "source": [
    "# Move the model to a GPU\n",
    "device = torch.device(\"cuda:0\" if torch.cuda.is_available() else \"cpu\")\n",
    "model = model.to(device)"
   ]
  },
  {
   "cell_type": "code",
   "execution_count": 14,
   "id": "3e2fc66c-b00b-4fb3-82f9-d678a44beb79",
   "metadata": {},
   "outputs": [],
   "source": [
    "# Create dataloaders dictionary\n",
    "dataloaders = {'train': train_loader, 'val': val_loader}"
   ]
  },
  {
   "cell_type": "code",
   "execution_count": 15,
   "id": "57839e23-1cfc-404b-a156-bec495f5df27",
   "metadata": {},
   "outputs": [],
   "source": [
    "# Create dataset_sizes dictionary for calculating losses and accuracies\n",
    "dataset_sizes = {'train': len(train_dataset), 'val': len(val_dataset)}"
   ]
  },
  {
   "cell_type": "code",
   "execution_count": null,
   "id": "c1e08650-7174-4fc9-9515-a64fb53e7211",
   "metadata": {},
   "outputs": [],
   "source": [
    "# TODO running variable. If x last epochs were not better, then stop."
   ]
  },
  {
   "cell_type": "code",
   "execution_count": 27,
   "id": "f26e306e-2af9-4ddf-888e-b0e3faf0c32c",
   "metadata": {
    "scrolled": true
   },
   "outputs": [
    {
     "name": "stdout",
     "output_type": "stream",
     "text": [
      "Epoch 1/10\n",
      "----------\n",
      "train Loss: 1.2014 Acc: 0.5668\n",
      "val Loss: 1.0693 Acc: 0.6316\n",
      "Epoch 2/10\n",
      "----------\n",
      "train Loss: 0.8165 Acc: 0.7046\n",
      "val Loss: 1.6902 Acc: 0.5115\n",
      "Epoch 3/10\n",
      "----------\n",
      "train Loss: 0.6764 Acc: 0.7596\n",
      "val Loss: 0.7904 Acc: 0.7047\n",
      "Epoch 4/10\n",
      "----------\n",
      "train Loss: 0.4045 Acc: 0.8598\n",
      "val Loss: 0.4805 Acc: 0.8333\n",
      "Epoch 5/10\n",
      "----------\n",
      "train Loss: 0.2970 Acc: 0.8992\n",
      "val Loss: 0.4858 Acc: 0.8365\n",
      "Epoch 6/10\n",
      "----------\n",
      "train Loss: 0.2085 Acc: 0.9330\n",
      "val Loss: 0.4536 Acc: 0.8500\n",
      "Epoch 7/10\n",
      "----------\n",
      "train Loss: 0.1845 Acc: 0.9400\n",
      "val Loss: 0.4606 Acc: 0.8540\n",
      "Epoch 8/10\n",
      "----------\n",
      "train Loss: 0.1714 Acc: 0.9447\n",
      "val Loss: 0.4760 Acc: 0.8524\n",
      "Epoch 9/10\n",
      "----------\n",
      "train Loss: 0.1557 Acc: 0.9501\n",
      "val Loss: 0.4770 Acc: 0.8528\n",
      "Epoch 10/10\n",
      "----------\n",
      "train Loss: 0.1570 Acc: 0.9491\n",
      "val Loss: 0.4769 Acc: 0.8538\n",
      "Training complete\n"
     ]
    }
   ],
   "source": [
    "train_loss = []\n",
    "val_loss = []\n",
    "train_accuracy = []\n",
    "val_accuracy = []\n",
    "\n",
    "for epoch in range(num_epochs):\n",
    "    print(f'Epoch {epoch+1}/{num_epochs}')\n",
    "    print('-' * 10)\n",
    "    \n",
    "    for phase in ['train', 'val']: # TODO SPLIT IN TWO LOOPS\n",
    "        if phase == 'train':\n",
    "            model.train()  # Set model to training mode\n",
    "        else:\n",
    "            model.eval()   # Set model to evaluation mode\n",
    "\n",
    "        running_loss = 0.0 # loss between each epoch\n",
    "        running_corrects = 0 # number of correct per epoch\n",
    "\n",
    "        # Iterate over batches\n",
    "        for inputs, labels in dataloaders[phase]: # TODO! is applying the transformation at every epoch. \n",
    "            #TODO Take out of the loop (nice to have)\n",
    "            # Move data to the device GPU\n",
    "            inputs = inputs.to(device) \n",
    "            labels = labels.to(device)\n",
    "\n",
    "            # Resets the gradients of all parameters to zero before the backward pass.\n",
    "            optimizer.zero_grad()\n",
    "\n",
    "            # Forward pass\n",
    "            with torch.set_grad_enabled(phase == 'train'): # if train phase, set gradient\n",
    "                outputs = model(inputs) # Passes the input in the Resnet model\n",
    "                # outputs contains the raw predictions of the model for each input\n",
    "                \n",
    "                _, preds = torch.max(outputs, 1) \n",
    "                # Returns the maximum from the outputs, with dimension 1 and a slot for each class\n",
    "                # Returns 2 tensors: maximum value and its index\n",
    "                # _ discards the maximum value \n",
    "                # Only the index is kept in preds\n",
    "                \n",
    "                loss = criterion(outputs, labels) \n",
    "                # Computes loss function between outputs and labels\n",
    "                # Refers to the CrossEntropy loss function defined above\n",
    "\n",
    "                #  Backpropagation and update the model parameters during training.\n",
    "                # TODO DELETE if phase == 'train':\n",
    "                loss.backward()\n",
    "                optimizer.step() # in which direction to go - -gradient\n",
    "\n",
    "            # Statistics\n",
    "            running_loss += loss.item() * inputs.size(0) # for batch size\n",
    "            running_corrects += torch.sum(preds == labels.data)  \n",
    "\n",
    "        epoch_loss = running_loss / dataset_sizes[phase] # TODO CORRECT \n",
    "        epoch_acc = running_corrects.double() / dataset_sizes[phase]\n",
    "\n",
    "        print(f'{phase} Loss: {epoch_loss:.4f} Acc: {epoch_acc:.4f}')\n",
    "        scheduler.step() # Learning rate verringern\n",
    "print('Training complete')\n",
    "\n",
    "# SAVE THE BEST MODEL \n",
    "\n",
    "# TODO save best model (OR its variables) in the loop based on best accuracy or loss of the validation set\n"
   ]
  },
  {
   "cell_type": "markdown",
   "id": "2724e7e4-1123-491d-8eb5-19a24bef40df",
   "metadata": {},
   "source": [
    "# Visualization"
   ]
  },
  {
   "cell_type": "code",
   "execution_count": 1,
   "id": "888c2ff8-e73b-4fc7-9aed-42cd84911cd2",
   "metadata": {
    "jupyter": {
     "source_hidden": true
    }
   },
   "outputs": [
    {
     "data": {
      "image/png": "[encoded data removed]",
      "text/plain": [
       "<Figure size 600x500 with 2 Axes>"
      ]
     },
     "metadata": {},
     "output_type": "display_data"
    },
    {
     "name": "stdout",
     "output_type": "stream",
     "text": [
      "Best validation accuracy: 0.8540 (Epoch 7)\n",
      "Final accuracy gap (train - val): 0.0953\n"
     ]
    }
   ],
   "source": [
    "import matplotlib.pyplot as plt\n",
    "import numpy as np\n",
    "\n",
    "# Data from your training output\n",
    "epochs = range(1, 11)\n",
    "#train_loss = [1.2046, 0.8164, 0.6721, 0.5795, 0.4985, 0.4179, 0.3544, 0.3011, 0.2437, 0.2144]\n",
    "#train_acc = [0.5643, 0.7060, 0.7622, 0.7950, 0.8245, 0.8527, 0.8794, 0.8968, 0.9164, 0.9263]\n",
    "#val_loss = [1.1494, 0.9248, 0.7390, 0.9132, 0.5970, 0.6041, 0.6934, 0.6527, 0.6923, 0.8519]\n",
    "#val_acc = [0.5924, 0.6811, 0.7340, 0.6747, 0.7854, 0.7898, 0.7632, 0.7981, 0.8010, 0.7495]\n",
    "\n",
    "\n",
    "#train_loss = [0.2005, 0.1795, 0.1565, 0.1487, 0.1382, 0.1174, 0.1184, 0.1141, 0.1006, 0.1074]\n",
    "#train_acc = [0.9314, 0.9385, 0.9450, 0.9500, 0.9530, 0.9601, 0.9598, 0.9612, 0.9663, 0.9625]\n",
    "#val_loss = [0.8022, 0.6737, 0.8607, 0.8347, 0.7254, 0.6479, 0.7382, 0.9915, 0.9643, 0.8319]\n",
    "#val_acc = [0.7741, 0.8196, 0.7589, 0.7780, 0.8045, 0.8340, 0.8174, 0.7507, 0.7609, 0.7872]\n",
    "\n",
    "train_loss = [1.2014, 0.8165, 0.6764, 0.4045, 0.2970, 0.2085, 0.1845, 0.1714, 0.1557, 0.1570]\n",
    "train_acc = [0.5668, 0.7046, 0.7596, 0.8598, 0.8992, 0.9330, 0.9400, 0.9447, 0.9501, 0.9491]\n",
    "val_loss = [1.0693, 1.6902, 0.7904, 0.4805, 0.4858, 0.4536, 0.4606, 0.4760, 0.4770, 0.4769]\n",
    "val_acc = [0.6316, 0.5115, 0.7047, 0.8333, 0.8365, 0.8500, 0.8540, 0.8524, 0.8528, 0.8538]\n",
    "\n",
    "\n",
    "           \n",
    "# Create a figure with two subplots\n",
    "fig, (ax1, ax2) = plt.subplots(2, 1, figsize=(6, 5))\n",
    "fig.suptitle('Training and Validation Metrics', fontsize=16)\n",
    "\n",
    "# Plot training & validation loss values\n",
    "ax1.plot(epochs, train_loss, 'b-', label='Training Loss')\n",
    "ax1.plot(epochs, val_loss, 'r-', label='Validation Loss')\n",
    "ax1.set_title('Model Loss')\n",
    "ax1.set_xlabel('Epoch')\n",
    "ax1.set_ylabel('Loss')\n",
    "ax1.legend()\n",
    "\n",
    "# Plot training & validation accuracy values\n",
    "ax2.plot(epochs, train_acc, 'b-', label='Training Accuracy')\n",
    "ax2.plot(epochs, val_acc, 'r-', label='Validation Accuracy')\n",
    "ax2.set_title('Model Accuracy')\n",
    "ax2.set_xlabel('Epoch')\n",
    "ax2.set_ylabel('Accuracy')\n",
    "ax2.legend()\n",
    "\n",
    "# Adjust layout and display the plot\n",
    "plt.tight_layout()\n",
    "plt.show()\n",
    "\n",
    "# Calculate and print best validation accuracy\n",
    "best_val_acc = max(val_acc)\n",
    "best_epoch = val_acc.index(best_val_acc) + 1\n",
    "print(f\"Best validation accuracy: {best_val_acc:.4f} (Epoch {best_epoch})\")\n",
    "\n",
    "# Calculate and print final training-validation gap\n",
    "final_train_acc = train_acc[-1]\n",
    "final_val_acc = val_acc[-1]\n",
    "acc_gap = final_train_acc - final_val_acc\n",
    "print(f\"Final accuracy gap (train - val): {acc_gap:.4f}\")\n"
   ]
  },
  {
   "cell_type": "code",
   "execution_count": null,
   "id": "af0693bc-3452-418b-ac24-ed72f42a247d",
   "metadata": {},
   "outputs": [],
   "source": []
  },
  {
   "cell_type": "markdown",
   "id": "df5d3e53-61ba-43b1-9a04-a58622225c36",
   "metadata": {},
   "source": [
    "### Wrong, saves the last model and not the best"
   ]
  },
  {
   "cell_type": "raw",
   "id": "dafc80bf-62b0-47ca-a5de-9df5af933a20",
   "metadata": {},
   "source": [
    "torch.save({\n",
    "    'model_state_dict': model.state_dict(),\n",
    "    'optimizer_state_dict': optimizer.state_dict(),\n",
    "    'epoch': num_epochs,\n",
    "    'scheduler_state_dict': scheduler.state_dict(),\n",
    "}, 'best_model.pth')\n"
   ]
  },
  {
   "cell_type": "code",
   "execution_count": 21,
   "id": "e32e1a27-e7d1-4803-9adc-f2a2440415a0",
   "metadata": {},
   "outputs": [],
   "source": [
    "checkpoint = torch.load('best_model.pth')\n",
    "model.load_state_dict(checkpoint['model_state_dict'])\n",
    "optimizer.load_state_dict(checkpoint['optimizer_state_dict'])\n",
    "scheduler.load_state_dict(checkpoint['scheduler_state_dict'])\n",
    "start_epoch = checkpoint['epoch']\n"
   ]
  },
  {
   "cell_type": "code",
   "execution_count": 22,
   "id": "fe8fde3e-2783-4f9f-bc46-2fc6029e6a35",
   "metadata": {},
   "outputs": [],
   "source": [
    "# Convert to TorchScript for faster inference\n",
    "scripted_model = torch.jit.script(model)\n",
    "scripted_model.save(\"model_scripted.pt\")\n"
   ]
  },
  {
   "cell_type": "code",
   "execution_count": null,
   "id": "dd43b340-da60-41dd-ac02-d45ad7e6419d",
   "metadata": {},
   "outputs": [],
   "source": []
  }
 ],
 "metadata": {
  "kernelspec": {
   "display_name": "Python 3 (ipykernel)",
   "language": "python",
   "name": "python3"
  },
  "language_info": {
   "codemirror_mode": {
    "name": "ipython",
    "version": 3
   },
   "file_extension": ".py",
   "mimetype": "text/x-python",
   "name": "python",
   "nbconvert_exporter": "python",
   "pygments_lexer": "ipython3",
   "version": "3.11.9"
  }
 },
 "nbformat": 4,
 "nbformat_minor": 5
}
