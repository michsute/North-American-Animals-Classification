{
 "cells": [
  {
   "cell_type": "code",
   "execution_count": 3,
   "id": "864cddc0-238d-4ea8-a89f-64d8fb099fd3",
   "metadata": {},
   "outputs": [],
   "source": [
    "import streamlit as st\n",
    "import pandas as pd\n",
    "import altair as alt\n",
    "import plotly.express as px"
   ]
  },
  {
   "cell_type": "code",
   "execution_count": 4,
   "id": "ac35957f-9420-46b5-a60c-748cd6da113f",
   "metadata": {},
   "outputs": [
    {
     "name": "stderr",
     "output_type": "stream",
     "text": [
      "2024-12-05 14:04:40.429 WARNING streamlit.runtime.scriptrunner_utils.script_run_context: Thread 'MainThread': missing ScriptRunContext! This warning can be ignored when running in bare mode.\n"
     ]
    }
   ],
   "source": [
    "st.set_page_config(\n",
    "    page_title=\"North American Animals Classification\",\n",
    "    page_icon=\"🏂\",\n",
    "    layout=\"wide\",\n",
    "    initial_sidebar_state=\"expanded\")\n"
   ]
  },
  {
   "cell_type": "code",
   "execution_count": 5,
   "id": "7213e889-e2c8-4b00-a9c9-4c35b8517e45",
   "metadata": {},
   "outputs": [],
   "source": [
    "df_reshaped = pd.read_csv('/exchange/dspro01/group3/data/df_dashboard.csv')"
   ]
  },
  {
   "cell_type": "code",
   "execution_count": null,
   "id": "7d533c5f-21f7-43cc-8aab-3470c3b61593",
   "metadata": {},
   "outputs": [],
   "source": []
  }
 ],
 "metadata": {
  "kernelspec": {
   "display_name": "Python 3 (ipykernel)",
   "language": "python",
   "name": "python3"
  },
  "language_info": {
   "codemirror_mode": {
    "name": "ipython",
    "version": 3
   },
   "file_extension": ".py",
   "mimetype": "text/x-python",
   "name": "python",
   "nbconvert_exporter": "python",
   "pygments_lexer": "ipython3",
   "version": "3.11.10"
  }
 },
 "nbformat": 4,
 "nbformat_minor": 5
}
