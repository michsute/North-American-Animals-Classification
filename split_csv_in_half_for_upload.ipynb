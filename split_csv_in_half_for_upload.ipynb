{
 "cells": [
  {
   "cell_type": "code",
   "execution_count": 1,
   "id": "97e10a95-86f3-4870-b34f-515fd7bc7f6c",
   "metadata": {},
   "outputs": [
    {
     "name": "stdout",
     "output_type": "stream",
     "text": [
      "Die Datei wurde in zwei Hälften geteilt und gespeichert.\n"
     ]
    }
   ],
   "source": [
    "import pandas as pd\n",
    "\n",
    "# Lade die CSV-Datei\n",
    "df = pd.read_csv('filtered_metadata_limited.csv')\n",
    "\n",
    "# Bestimme die Mitte der Datei\n",
    "half_index = len(df) // 2\n",
    "\n",
    "# Teile die Datei in zwei Hälften\n",
    "df_first_half = df.iloc[:half_index]\n",
    "df_second_half = df.iloc[half_index:]\n",
    "\n",
    "# Speichere die beiden Hälften in separate Dateien\n",
    "df_first_half.to_csv('part1.csv', index=False)\n",
    "df_second_half.to_csv('part2.csv', index=False)\n",
    "\n",
    "print(\"Die Datei wurde in zwei Hälften geteilt und gespeichert.\")"
   ]
  }
 ],
 "metadata": {
  "kernelspec": {
   "display_name": "Python 3 (ipykernel)",
   "language": "python",
   "name": "python3"
  },
  "language_info": {
   "codemirror_mode": {
    "name": "ipython",
    "version": 3
   },
   "file_extension": ".py",
   "mimetype": "text/x-python",
   "name": "python",
   "nbconvert_exporter": "python",
   "pygments_lexer": "ipython3",
   "version": "3.11.10"
  }
 },
 "nbformat": 4,
 "nbformat_minor": 5
}
