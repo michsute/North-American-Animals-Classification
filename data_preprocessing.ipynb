{
 "cells": [
  {
   "cell_type": "markdown",
   "id": "f00290fa-746c-47cc-adc4-449113cece8c",
   "metadata": {},
   "source": [
    "# Data preprocessing"
   ]
  },
  {
   "cell_type": "markdown",
   "id": "4c492c53-8ebe-4cff-aa44-55eff429dd1d",
   "metadata": {},
   "source": [
    "## Install and import libraries"
   ]
  },
  {
   "cell_type": "code",
   "execution_count": 1,
   "id": "f6beeafd-64a7-4c23-a249-ecc099efece3",
   "metadata": {},
   "outputs": [
    {
     "name": "stdout",
     "output_type": "stream",
     "text": [
      "Collecting opencv-python\n",
      "  Using cached opencv_python-4.10.0.84-cp37-abi3-manylinux_2_17_x86_64.manylinux2014_x86_64.whl.metadata (20 kB)\n",
      "Requirement already satisfied: numpy>=1.21.2 in /opt/conda/lib/python3.11/site-packages (from opencv-python) (1.26.4)\n",
      "Using cached opencv_python-4.10.0.84-cp37-abi3-manylinux_2_17_x86_64.manylinux2014_x86_64.whl (62.5 MB)\n",
      "Installing collected packages: opencv-python\n",
      "Successfully installed opencv-python-4.10.0.84\n",
      "Note: you may need to restart the kernel to use updated packages.\n"
     ]
    }
   ],
   "source": [
    "%pip install opencv-python"
   ]
  },
  {
   "cell_type": "code",
   "execution_count": 2,
   "id": "dde8429e-06ab-4b22-91c1-cacd491c0424",
   "metadata": {},
   "outputs": [],
   "source": [
    "import cv2 as cv\n",
    "import os\n",
    "import pandas as pd"
   ]
  },
  {
   "cell_type": "markdown",
   "id": "bab6b0c1-c3b7-4ea6-8cd6-ab2e49f428b5",
   "metadata": {},
   "source": [
    "# Code"
   ]
  },
  {
   "cell_type": "code",
   "execution_count": 3,
   "id": "6e3bcaae-ecbb-4521-b97c-28d948107672",
   "metadata": {},
   "outputs": [],
   "source": [
    "# Folder with images\n",
    "path = '/exchange/dspro01/group3/data/train_features_copy'"
   ]
  },
  {
   "cell_type": "markdown",
   "id": "5c00002d-240a-4d83-b1fa-c6a489d7f4da",
   "metadata": {},
   "source": [
    "# Grayscale images - output in the SAME folder\n",
    "for filename in os.listdir(path):\n",
    "    path_image = path + '/' + filename\n",
    "    image = cv.imread(path_image)\n",
    "    gray_image = cv.cvtColor(image, cv.COLOR_BGR2GRAY)\n",
    "    normalized_gray_image = cv.normalize(gray_image, None, alpha=0, beta=255, norm_type=cv.NORM_MINMAX) # TODO: Normalize with minmax ok? ####################\n",
    "    cv.imwrite(path_image, gray_image)"
   ]
  },
  {
   "cell_type": "markdown",
   "id": "f9557e86-dfaa-4621-914a-1c0c12a87421",
   "metadata": {},
   "source": [
    "### If we want to augment hog class:\n",
    "Read hog files |\n",
    "Loop and flip each | \n",
    "Output in same folder with \"flipped\" in name\n"
   ]
  },
  {
   "cell_type": "code",
   "execution_count": 19,
   "id": "291f02e1-a495-4efb-93f4-058bfb3003cc",
   "metadata": {},
   "outputs": [],
   "source": [
    "labels_csv = pd.read_csv('/exchange/dspro01/group3/data/train_labels.csv', sep=',')"
   ]
  },
  {
   "cell_type": "code",
   "execution_count": 21,
   "id": "045cedf8-6485-49af-8f5d-b8a50ecd223e",
   "metadata": {},
   "outputs": [
    {
     "data": {
      "text/html": [
       "<div>\n",
       "<style scoped>\n",
       "    .dataframe tbody tr th:only-of-type {\n",
       "        vertical-align: middle;\n",
       "    }\n",
       "\n",
       "    .dataframe tbody tr th {\n",
       "        vertical-align: top;\n",
       "    }\n",
       "\n",
       "    .dataframe thead th {\n",
       "        text-align: right;\n",
       "    }\n",
       "</style>\n",
       "<table border=\"1\" class=\"dataframe\">\n",
       "  <thead>\n",
       "    <tr style=\"text-align: right;\">\n",
       "      <th></th>\n",
       "      <th>id</th>\n",
       "      <th>antelope_duiker</th>\n",
       "      <th>bird</th>\n",
       "      <th>blank</th>\n",
       "      <th>civet_genet</th>\n",
       "      <th>hog</th>\n",
       "      <th>leopard</th>\n",
       "      <th>monkey_prosimian</th>\n",
       "      <th>rodent</th>\n",
       "    </tr>\n",
       "  </thead>\n",
       "  <tbody>\n",
       "    <tr>\n",
       "      <th>0</th>\n",
       "      <td>ZJ000000</td>\n",
       "      <td>0.0</td>\n",
       "      <td>1.0</td>\n",
       "      <td>0.0</td>\n",
       "      <td>0.0</td>\n",
       "      <td>0.0</td>\n",
       "      <td>0.0</td>\n",
       "      <td>0.0</td>\n",
       "      <td>0.0</td>\n",
       "    </tr>\n",
       "    <tr>\n",
       "      <th>1</th>\n",
       "      <td>ZJ000001</td>\n",
       "      <td>0.0</td>\n",
       "      <td>0.0</td>\n",
       "      <td>0.0</td>\n",
       "      <td>0.0</td>\n",
       "      <td>0.0</td>\n",
       "      <td>0.0</td>\n",
       "      <td>1.0</td>\n",
       "      <td>0.0</td>\n",
       "    </tr>\n",
       "    <tr>\n",
       "      <th>2</th>\n",
       "      <td>ZJ000002</td>\n",
       "      <td>0.0</td>\n",
       "      <td>1.0</td>\n",
       "      <td>0.0</td>\n",
       "      <td>0.0</td>\n",
       "      <td>0.0</td>\n",
       "      <td>0.0</td>\n",
       "      <td>0.0</td>\n",
       "      <td>0.0</td>\n",
       "    </tr>\n",
       "    <tr>\n",
       "      <th>3</th>\n",
       "      <td>ZJ000003</td>\n",
       "      <td>0.0</td>\n",
       "      <td>0.0</td>\n",
       "      <td>0.0</td>\n",
       "      <td>0.0</td>\n",
       "      <td>0.0</td>\n",
       "      <td>0.0</td>\n",
       "      <td>1.0</td>\n",
       "      <td>0.0</td>\n",
       "    </tr>\n",
       "    <tr>\n",
       "      <th>4</th>\n",
       "      <td>ZJ000004</td>\n",
       "      <td>0.0</td>\n",
       "      <td>0.0</td>\n",
       "      <td>0.0</td>\n",
       "      <td>0.0</td>\n",
       "      <td>0.0</td>\n",
       "      <td>1.0</td>\n",
       "      <td>0.0</td>\n",
       "      <td>0.0</td>\n",
       "    </tr>\n",
       "  </tbody>\n",
       "</table>\n",
       "</div>"
      ],
      "text/plain": [
       "         id  antelope_duiker  bird  blank  civet_genet  hog  leopard  \\\n",
       "0  ZJ000000              0.0   1.0    0.0          0.0  0.0      0.0   \n",
       "1  ZJ000001              0.0   0.0    0.0          0.0  0.0      0.0   \n",
       "2  ZJ000002              0.0   1.0    0.0          0.0  0.0      0.0   \n",
       "3  ZJ000003              0.0   0.0    0.0          0.0  0.0      0.0   \n",
       "4  ZJ000004              0.0   0.0    0.0          0.0  0.0      1.0   \n",
       "\n",
       "   monkey_prosimian  rodent  \n",
       "0               0.0     0.0  \n",
       "1               1.0     0.0  \n",
       "2               0.0     0.0  \n",
       "3               1.0     0.0  \n",
       "4               0.0     0.0  "
      ]
     },
     "execution_count": 21,
     "metadata": {},
     "output_type": "execute_result"
    }
   ],
   "source": [
    "labels_csv.head(5)"
   ]
  },
  {
   "cell_type": "code",
   "execution_count": 28,
   "id": "a5911fc0-af2f-4e18-9f10-11fc6b6dd393",
   "metadata": {},
   "outputs": [],
   "source": [
    "hog_ids = labels_csv[labels_csv['hog'] == 1]['id']\n",
    "hog_ids_list = hog_ids.tolist()\n",
    "print(len(hog_ids_list))\n",
    "print(hog_ids_list[0])"
   ]
  },
  {
   "cell_type": "markdown",
   "id": "1505d056-6e79-48ba-9437-a3eb4dca1195",
   "metadata": {},
   "source": [
    "# TODO would need to attribute labels to them as well TO TEST\n",
    "for img_name in hog_ids_list:\n",
    "    path_image = path + '/' + image_name + '.jpg'\n",
    "    image = cv.imread(path_image)\n",
    "    flipped_image = cv.flip(image, 2) # Vertical mirroring\n",
    "    output = path + '/' + 'flipped' + img_name + '.jpg'\n",
    "    cv.imwrite(output, flipped_image)"
   ]
  },
  {
   "cell_type": "code",
   "execution_count": null,
   "id": "4d604957-d200-458a-9141-d1e534d10e21",
   "metadata": {},
   "outputs": [],
   "source": []
  },
  {
   "cell_type": "code",
   "execution_count": null,
   "id": "c7c4b990-5c12-4566-82c8-a6eb5a0115c8",
   "metadata": {},
   "outputs": [],
   "source": []
  }
 ],
 "metadata": {
  "kernelspec": {
   "display_name": "Python 3 (ipykernel)",
   "language": "python",
   "name": "python3"
  },
  "language_info": {
   "codemirror_mode": {
    "name": "ipython",
    "version": 3
   },
   "file_extension": ".py",
   "mimetype": "text/x-python",
   "name": "python",
   "nbconvert_exporter": "python",
   "pygments_lexer": "ipython3",
   "version": "3.11.10"
  }
 },
 "nbformat": 4,
 "nbformat_minor": 5
}
