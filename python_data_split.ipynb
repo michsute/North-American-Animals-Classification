{
 "cells": [
  {
   "cell_type": "code",
   "execution_count": 82,
   "id": "68d94c8d-6d3e-447e-a58e-08313183f92d",
   "metadata": {},
   "outputs": [],
   "source": [
    "import os\n",
    "import shutil\n",
    "import random"
   ]
  },
  {
   "cell_type": "markdown",
   "id": "10b014d4-0299-4e03-a5a8-f0d888499d42",
   "metadata": {
    "jp-MarkdownHeadingCollapsed": true
   },
   "source": [
    "# Organize data per label"
   ]
  },
  {
   "cell_type": "code",
   "execution_count": 111,
   "id": "170988d4-6613-46c8-bbed-34963e45b27e",
   "metadata": {},
   "outputs": [],
   "source": [
    "import pandas as pd\n",
    "filtered_metadata_limited_csv = pd.read_csv('/exchange/dspro01/group3/data/filtered_metadata_limited.csv', sep=',')"
   ]
  },
  {
   "cell_type": "code",
   "execution_count": 135,
   "id": "454316fa-29c8-49c5-a641-e878a2d4e154",
   "metadata": {},
   "outputs": [
    {
     "name": "stdout",
     "output_type": "stream",
     "text": [
      "['american black bear' 'bobcat' 'california ground squirrel' 'coyote'\n",
      " 'elk' 'empty' 'gray fox' 'mule deer' 'red deer' 'striped skunk'\n",
      " 'unidentified deer' 'wild boar']\n",
      "True\n"
     ]
    }
   ],
   "source": [
    "all_labels = filtered_metadata_limited_csv['common_name'].unique()\n",
    "print(all_labels)\n",
    "print(len(all_labels) == 12)"
   ]
  },
  {
   "cell_type": "code",
   "execution_count": 134,
   "id": "d502b6b8-84b0-469a-954a-92d63134623d",
   "metadata": {},
   "outputs": [
    {
     "name": "stdout",
     "output_type": "stream",
     "text": [
      "True\n"
     ]
    }
   ],
   "source": [
    "print(len(filtered_metadata_limited_csv) == (12*3000))"
   ]
  },
  {
   "cell_type": "code",
   "execution_count": 86,
   "id": "660b82a0-3e86-4eec-9c24-09fef31d5465",
   "metadata": {},
   "outputs": [],
   "source": [
    "source_dir = '/exchange/dspro01/group3/data/images'\n",
    "base_dir = '/exchange/dspro01/group3/data/img_per_category' "
   ]
  },
  {
   "cell_type": "code",
   "execution_count": 126,
   "id": "9d482dcc-76e8-4813-a8ec-6ea8c1a14015",
   "metadata": {},
   "outputs": [],
   "source": [
    "os.makedirs(source_dir, exist_ok=True)\n",
    "os.makedirs(base_dir, exist_ok=True)"
   ]
  },
  {
   "cell_type": "code",
   "execution_count": 118,
   "id": "ed3bedc1-a9ca-4cec-9aa8-edb13def892a",
   "metadata": {},
   "outputs": [],
   "source": [
    "# Create a dictionary to map filenames to labels\n",
    "label_dict = pd.Series(filtered_metadata_csv['common_name'].values, index=filtered_metadata_csv['id']).to_dict()"
   ]
  },
  {
   "cell_type": "code",
   "execution_count": 122,
   "id": "9ae0dd47-9e73-47b7-868b-2e05a21fd958",
   "metadata": {},
   "outputs": [
    {
     "name": "stdout",
     "output_type": "stream",
     "text": [
      "Number of images in all_images = 36000\n",
      "<class 'str'>\n"
     ]
    }
   ],
   "source": [
    "# List all image files in the source directory\n",
    "all_images = os.listdir(source_dir)\n",
    "print(f'Number of images in all_images = {len(all_images)}')\n",
    "print(type(all_images[0]))"
   ]
  },
  {
   "cell_type": "markdown",
   "id": "025d73bd-bdd7-49d0-bc97-894909ad1280",
   "metadata": {
    "jp-MarkdownHeadingCollapsed": true
   },
   "source": [
    "## <font color='red'>!! Next cell will empty the source_dir of its pictures !!</font>"
   ]
  },
  {
   "cell_type": "code",
   "execution_count": 123,
   "id": "27b92ee0-2296-4b93-aeaf-a830b4b56fb8",
   "metadata": {},
   "outputs": [
    {
     "name": "stdout",
     "output_type": "stream",
     "text": [
      "Images have been organized into label-based folders.\n"
     ]
    }
   ],
   "source": [
    "# Loop over each image in the source folder\n",
    "for img in all_images:\n",
    "    label = label_dict.get(img)  # Get the label for the image\n",
    "    \n",
    "    if label is not None:  # Check if label exists for the image\n",
    "        # Define the category (label) directory\n",
    "        label_dir = os.path.join(base_dir, label)\n",
    "        os.makedirs(label_dir, exist_ok=True)  # Create label folder if it doesn't exist\n",
    "\n",
    "        # Define source and destination paths for the image\n",
    "        src = os.path.join(source_dir, img)\n",
    "        dst = os.path.join(label_dir, img)\n",
    "\n",
    "        # Move the image to the respective label folder\n",
    "        shutil.move(src, dst)\n",
    "    else:\n",
    "        print(f\"Warning: No label found for {img}\")\n",
    "\n",
    "print(\"Images have been organized into label-based folders.\")"
   ]
  },
  {
   "cell_type": "markdown",
   "id": "d133f0cd-4fe5-4258-b2b7-a1fc440158ab",
   "metadata": {},
   "source": [
    "# Split into train, test and val"
   ]
  },
  {
   "cell_type": "code",
   "execution_count": null,
   "id": "e975b4c8-bcf5-4900-a36b-abf177e8093f",
   "metadata": {},
   "outputs": [],
   "source": [
    "data_dir = \"/exchange/dspro01/group3/data/img_split\"\n",
    "\n",
    "# Destination directories\n",
    "train_dir = \"/exchange/dspro01/group3/data/img_split/train\"\n",
    "val_dir = \"/exchange/dspro01/group3/data/img_split/val\"\n",
    "test_dir = \"/exchange/dspro01/group3/data/img_split/test\"\n",
    "\n",
    "# Split ratios\n",
    "train_ratio = 0.7\n",
    "val_ratio = 0.15\n",
    "test_ratio = 0.15\n",
    "\n",
    "# Create destination directories\n",
    "os.makedirs(train_dir, exist_ok=True)\n",
    "os.makedirs(val_dir, exist_ok=True)\n",
    "os.makedirs(test_dir, exist_ok=True)"
   ]
  },
  {
   "cell_type": "code",
   "execution_count": null,
   "id": "1f791af2-656f-4ad5-925c-29c90c3965ae",
   "metadata": {},
   "outputs": [],
   "source": [
    "# List all images in the source directory\n",
    "all_images = os.listdir(source_dir)\n",
    "total_images = len(all_images)\n",
    "num_categories = total_images // images_per_category"
   ]
  },
  {
   "cell_type": "code",
   "execution_count": null,
   "id": "17d848bd-91a1-49bc-a195-0be6b0125e3f",
   "metadata": {},
   "outputs": [],
   "source": []
  },
  {
   "cell_type": "code",
   "execution_count": null,
   "id": "3f0fcbac-b584-428b-b7fc-ab00b9242eb2",
   "metadata": {},
   "outputs": [],
   "source": []
  },
  {
   "cell_type": "code",
   "execution_count": 127,
   "id": "b0beb917-cefa-45e5-af08-27eec1db2533",
   "metadata": {},
   "outputs": [],
   "source": [
    "# Make the split reproducible\n",
    "random.seed(42) "
   ]
  },
  {
   "cell_type": "code",
   "execution_count": null,
   "id": "5111c6c8-b83a-4dc7-a5db-dc4d2fc92ff4",
   "metadata": {},
   "outputs": [],
   "source": []
  },
  {
   "cell_type": "code",
   "execution_count": 124,
   "id": "5ffd507f-f9ba-4299-8e17-eedd61aab893",
   "metadata": {},
   "outputs": [
    {
     "name": "stdout",
     "output_type": "stream",
     "text": [
      "Data has been successfully split into train, validation, and test sets by category.\n"
     ]
    }
   ],
   "source": [
    "# Split images for each category\n",
    "for category_index in range(num_categories):\n",
    "    category_name = f\"category_{category_index + 1}\"\n",
    "    category_path = os.path.join(base_dir, category_name)\n",
    "    \n",
    "    # List all images in the category\n",
    "    category_images = os.listdir(category_path)\n",
    "    random.shuffle(category_images)  # Shuffle images for randomness\n",
    "\n",
    "    # Calculate split sizes\n",
    "    num_images = len(category_images)\n",
    "    train_size = int(num_images * train_ratio)\n",
    "    val_size = int(num_images * val_ratio)\n",
    "    test_size = num_images - train_size - val_size  # Remaining for test\n",
    "\n",
    "    # Split images\n",
    "    train_images = category_images[:train_size]\n",
    "    val_images = category_images[train_size:train_size + val_size]\n",
    "    test_images = category_images[train_size + val_size:]\n",
    "\n",
    "    # Copy images to respective folders\n",
    "    for img_list, split_folder in zip(\n",
    "        [train_images, val_images, test_images],\n",
    "        [train_dir, val_dir, test_dir]\n",
    "    ):\n",
    "        category_split_dir = os.path.join(split_folder, category_name)\n",
    "        os.makedirs(category_split_dir, exist_ok=True)  # Create category folder in split directory\n",
    "        for img in img_list:\n",
    "            src = os.path.join(category_path, img)\n",
    "            dst = os.path.join(category_split_dir, img)\n",
    "            shutil.copy(src, dst)  # Copy the image to the split folder\n",
    "\n",
    "print(\"Data has been successfully split into train, validation, and test sets by category.\")\n"
   ]
  },
  {
   "cell_type": "code",
   "execution_count": null,
   "id": "72961d45-ca47-4b6a-a59a-a6a344135703",
   "metadata": {},
   "outputs": [],
   "source": []
  },
  {
   "cell_type": "code",
   "execution_count": null,
   "id": "f477d041-7ee1-4751-8a0e-6d068bf23ce4",
   "metadata": {},
   "outputs": [],
   "source": []
  }
 ],
 "metadata": {
  "kernelspec": {
   "display_name": "Python 3 (ipykernel)",
   "language": "python",
   "name": "python3"
  },
  "language_info": {
   "codemirror_mode": {
    "name": "ipython",
    "version": 3
   },
   "file_extension": ".py",
   "mimetype": "text/x-python",
   "name": "python",
   "nbconvert_exporter": "python",
   "pygments_lexer": "ipython3",
   "version": "3.11.9"
  }
 },
 "nbformat": 4,
 "nbformat_minor": 5
}
