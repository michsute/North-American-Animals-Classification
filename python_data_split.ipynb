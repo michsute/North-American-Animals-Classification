{
 "cells": [
  {
   "cell_type": "code",
   "execution_count": 2,
   "id": "68d94c8d-6d3e-447e-a58e-08313183f92d",
   "metadata": {},
   "outputs": [],
   "source": [
    "import os\n",
    "import shutil\n",
    "import random"
   ]
  },
  {
   "cell_type": "markdown",
   "id": "10b014d4-0299-4e03-a5a8-f0d888499d42",
   "metadata": {},
   "source": [
    "# Organize data per label"
   ]
  },
  {
   "cell_type": "code",
   "execution_count": 3,
   "id": "170988d4-6613-46c8-bbed-34963e45b27e",
   "metadata": {},
   "outputs": [],
   "source": [
    "import pandas as pd\n",
    "filtered_metadata_limited_csv = pd.read_csv('/exchange/dspro01/group3/data/filtered_metadata_limited.csv', sep=',')"
   ]
  },
  {
   "cell_type": "code",
   "execution_count": 4,
   "id": "454316fa-29c8-49c5-a641-e878a2d4e154",
   "metadata": {},
   "outputs": [
    {
     "name": "stdout",
     "output_type": "stream",
     "text": [
      "['american black bear' 'bobcat' 'california ground squirrel' 'coyote'\n",
      " 'elk' 'empty' 'gray fox' 'mule deer' 'red deer' 'striped skunk'\n",
      " 'unidentified deer' 'wild boar']\n",
      "True\n"
     ]
    }
   ],
   "source": [
    "all_labels = filtered_metadata_limited_csv['common_name'].unique()\n",
    "print(all_labels)\n",
    "print(len(all_labels) == 12)"
   ]
  },
  {
   "cell_type": "code",
   "execution_count": 5,
   "id": "d502b6b8-84b0-469a-954a-92d63134623d",
   "metadata": {},
   "outputs": [
    {
     "name": "stdout",
     "output_type": "stream",
     "text": [
      "True\n"
     ]
    }
   ],
   "source": [
    "print(len(filtered_metadata_limited_csv) == (12*3000))"
   ]
  },
  {
   "cell_type": "code",
   "execution_count": 6,
   "id": "660b82a0-3e86-4eec-9c24-09fef31d5465",
   "metadata": {},
   "outputs": [],
   "source": [
    "source_dir = '/exchange/dspro01/group3/data/images'\n",
    "#base_dir = '/exchange/dspro01/group3/data/img_per_category'\n",
    "train_dir = '/exchange/dspro01/group3/data/train'\n",
    "test_dir = '/exchange/dspro01/group3/data/test'"
   ]
  },
  {
   "cell_type": "code",
   "execution_count": 7,
   "id": "9d482dcc-76e8-4813-a8ec-6ea8c1a14015",
   "metadata": {},
   "outputs": [],
   "source": [
    "os.makedirs(source_dir, exist_ok=True)\n",
    "os.makedirs(train_dir, exist_ok=True)\n",
    "os.makedirs(test_dir, exist_ok=True)"
   ]
  },
  {
   "cell_type": "code",
   "execution_count": 13,
   "id": "ed3bedc1-a9ca-4cec-9aa8-edb13def892a",
   "metadata": {},
   "outputs": [],
   "source": [
    "# Create a dictionary to map filenames to labels\n",
    "label_dict = pd.Series(filtered_metadata_limited_csv['common_name'].values, index=filtered_metadata_limited_csv['id']).to_dict()"
   ]
  },
  {
   "cell_type": "code",
   "execution_count": 14,
   "id": "9ae0dd47-9e73-47b7-868b-2e05a21fd958",
   "metadata": {},
   "outputs": [
    {
     "name": "stdout",
     "output_type": "stream",
     "text": [
      "Number of images in all_images = 36000\n",
      "<class 'str'>\n"
     ]
    }
   ],
   "source": [
    "# List all image files in the source directory\n",
    "all_images = os.listdir(source_dir)\n",
    "print(f'Number of images in all_images = {len(all_images)}')\n",
    "print(type(all_images[0]))"
   ]
  },
  {
   "cell_type": "markdown",
   "id": "025d73bd-bdd7-49d0-bc97-894909ad1280",
   "metadata": {},
   "source": [
    "## <font color='red'>!! Next code cells will empty the source_dir of its pictures !!</font>"
   ]
  },
  {
   "cell_type": "markdown",
   "id": "3bb289af-88d7-46b2-bcab-2e533c045733",
   "metadata": {
    "jp-MarkdownHeadingCollapsed": true
   },
   "source": [
    "1 Folder, 12 subfolders, 3k images per subfolder"
   ]
  },
  {
   "cell_type": "raw",
   "id": "730d6ede-adf4-4015-b228-490e0c253a16",
   "metadata": {},
   "source": [
    "# Loop over each image in the source folder\n",
    "for img in all_images:\n",
    "    label = label_dict.get(img)  # Get the label for the image\n",
    "    \n",
    "    if label is not None:  # Check if label exists for the image\n",
    "        # Define the category (label) directory\n",
    "        label_dir = os.path.join(base_dir, label)\n",
    "        os.makedirs(label_dir, exist_ok=True)  # Create label folder if it doesn't exist\n",
    "\n",
    "        # Define source and destination paths for the image\n",
    "        src = os.path.join(source_dir, img)\n",
    "        dst = os.path.join(label_dir, img)\n",
    "\n",
    "        # Move the image to the respective label folder\n",
    "        shutil.move(src, dst)\n",
    "    else:\n",
    "        print(f\"Warning: No label found for {img}\")\n",
    "\n",
    "print(\"Images have been organized into label-based folders.\")"
   ]
  },
  {
   "cell_type": "markdown",
   "id": "e8c407d2-284e-46bb-997b-552a750bd472",
   "metadata": {},
   "source": [
    "1 Train folder, 12 subfolders, k images per subfolder\n",
    "1 Test folder, 12 subfolders, k images per subfolder"
   ]
  },
  {
   "cell_type": "code",
   "execution_count": 12,
   "id": "99980462-5f89-47e8-9bb0-a11237633c4c",
   "metadata": {},
   "outputs": [],
   "source": [
    "random.seed(42) "
   ]
  },
  {
   "cell_type": "code",
   "execution_count": 16,
   "id": "aef7781e-1f0c-41d0-8a1c-3abd72f76d10",
   "metadata": {},
   "outputs": [
    {
     "name": "stdout",
     "output_type": "stream",
     "text": [
      "Data has been split into 80% train and 20% test folders by category.\n"
     ]
    }
   ],
   "source": [
    "\n",
    "# Loop over each label (category)\n",
    "for label in all_labels:\n",
    "    # Get all images for this label\n",
    "    images = [img for img, lbl in label_dict.items() if lbl == label]\n",
    "    \n",
    "    # Shuffle and split images into 80% train, 20% test\n",
    "    random.shuffle(images)\n",
    "    split_index = int(0.8 * len(images))\n",
    "    train_images = images[:split_index]\n",
    "    test_images = images[split_index:]\n",
    "    \n",
    "    # Define category subfolders in train and test directories\n",
    "    train_category_dir = os.path.join(train_dir, label)\n",
    "    test_category_dir = os.path.join(test_dir, label)\n",
    "    os.makedirs(train_category_dir, exist_ok=True)\n",
    "    os.makedirs(test_category_dir, exist_ok=True)\n",
    "    \n",
    "    # Move the images to the corresponding train/test subfolder\n",
    "    for img in train_images:\n",
    "        src = os.path.join(source_dir, img)  # Assuming 'img' is the filename\n",
    "        dst = os.path.join(train_category_dir, img)\n",
    "        shutil.move(src, dst)\n",
    "    \n",
    "    for img in test_images:\n",
    "        src = os.path.join(source_dir, img)\n",
    "        dst = os.path.join(test_category_dir, img)\n",
    "        shutil.move(src, dst)\n",
    "\n",
    "print(\"Data has been split into 80% train and 20% test folders by category.\")"
   ]
  },
  {
   "cell_type": "markdown",
   "id": "3d7a9ae1-2964-4082-94df-d13c13fe7501",
   "metadata": {},
   "source": [
    "# To check image label by hand"
   ]
  },
  {
   "cell_type": "code",
   "execution_count": 18,
   "id": "49991c3b-cb8e-41d9-9cb9-b7b68225a1a2",
   "metadata": {},
   "outputs": [],
   "source": [
    "def find_label_with_filename(df, filename):\n",
    "    return df.loc[df['filename'].str.contains(filename, na=False), 'common_name']\n",
    "    "
   ]
  },
  {
   "cell_type": "code",
   "execution_count": 23,
   "id": "ecb1dcbe-a317-4a9d-8d57-459b625c21df",
   "metadata": {},
   "outputs": [
    {
     "data": {
      "text/plain": [
       "27124    striped skunk\n",
       "Name: common_name, dtype: object"
      ]
     },
     "execution_count": 23,
     "metadata": {},
     "output_type": "execute_result"
    }
   ],
   "source": [
    "find_label_with_filename(filtered_metadata_limited_csv, 'CA-48_02_29_2016_CA-48_0006658.JPG')"
   ]
  },
  {
   "cell_type": "code",
   "execution_count": null,
   "id": "49c3e398-7a58-44b4-8a8a-7df07dd1e582",
   "metadata": {},
   "outputs": [],
   "source": []
  }
 ],
 "metadata": {
  "kernelspec": {
   "display_name": "Python 3 (ipykernel)",
   "language": "python",
   "name": "python3"
  },
  "language_info": {
   "codemirror_mode": {
    "name": "ipython",
    "version": 3
   },
   "file_extension": ".py",
   "mimetype": "text/x-python",
   "name": "python",
   "nbconvert_exporter": "python",
   "pygments_lexer": "ipython3",
   "version": "3.11.9"
  }
 },
 "nbformat": 4,
 "nbformat_minor": 5
}
