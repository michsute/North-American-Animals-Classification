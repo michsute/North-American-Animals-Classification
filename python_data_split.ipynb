{
 "cells": [
  {
   "cell_type": "code",
   "execution_count": 16,
   "id": "68d94c8d-6d3e-447e-a58e-08313183f92d",
   "metadata": {},
   "outputs": [],
   "source": [
    "import os\n",
    "import shutil\n",
    "import random"
   ]
  },
  {
   "cell_type": "code",
   "execution_count": 17,
   "id": "1b6f8852-2f8d-4dc5-a49c-c53b4140db77",
   "metadata": {},
   "outputs": [],
   "source": [
    "# Make the split reproducible\n",
    "random.seed(42)  "
   ]
  },
  {
   "cell_type": "code",
   "execution_count": 18,
   "id": "660b82a0-3e86-4eec-9c24-09fef31d5465",
   "metadata": {},
   "outputs": [],
   "source": [
    "source_dir = '/exchange/dspro01/group3/data/images'"
   ]
  },
  {
   "cell_type": "code",
   "execution_count": 19,
   "id": "9d482dcc-76e8-4813-a8ec-6ea8c1a14015",
   "metadata": {},
   "outputs": [],
   "source": [
    "data_dir = \"/exchange/dspro01/group3/data/img_split\""
   ]
  },
  {
   "cell_type": "code",
   "execution_count": 20,
   "id": "8a1fa857-4885-47ec-a372-5a37b41e1564",
   "metadata": {},
   "outputs": [],
   "source": [
    "# Destination directories\n",
    "train_dir = \"/exchange/dspro01/group3/data/img_split/train\"\n",
    "val_dir = \"/exchange/dspro01/group3/data/img_split/val\"\n",
    "test_dir = \"/exchange/dspro01/group3/data/img_split/test\"\n",
    "\n",
    "# Split ratios\n",
    "train_ratio = 0.7\n",
    "val_ratio = 0.15\n",
    "test_ratio = 0.15"
   ]
  },
  {
   "cell_type": "code",
   "execution_count": 21,
   "id": "cb852881-f859-469b-863e-fd5bb1ebd195",
   "metadata": {},
   "outputs": [],
   "source": [
    "# Number of images per category\n",
    "images_per_category = 3000\n",
    "\n",
    "# Create destination directories\n",
    "os.makedirs(train_dir, exist_ok=True)\n",
    "os.makedirs(val_dir, exist_ok=True)\n",
    "os.makedirs(test_dir, exist_ok=True)"
   ]
  },
  {
   "cell_type": "code",
   "execution_count": 22,
   "id": "153198e0-d77c-4ddb-b686-f12da2e72443",
   "metadata": {},
   "outputs": [],
   "source": [
    "# List all images in the source directory\n",
    "all_images = os.listdir(source_dir)\n",
    "total_images = len(all_images)\n",
    "num_categories = total_images // images_per_category"
   ]
  },
  {
   "cell_type": "code",
   "execution_count": 23,
   "id": "9d3e1768-231d-4e17-ac35-886515bc8f30",
   "metadata": {},
   "outputs": [
    {
     "name": "stdout",
     "output_type": "stream",
     "text": [
      "Nr of images = 36000\n",
      "Nr of categories = 12\n"
     ]
    }
   ],
   "source": [
    "print(f'Nr of images = {total_images}')\n",
    "print(f'Nr of categories = {num_categories}')"
   ]
  },
  {
   "cell_type": "code",
   "execution_count": 24,
   "id": "ae673427-f37d-49ea-a09c-cdd9da14ee9f",
   "metadata": {},
   "outputs": [
    {
     "name": "stdout",
     "output_type": "stream",
     "text": [
      "Data has been successfully organized into train, validation, and test sets by category.\n"
     ]
    }
   ],
   "source": [
    "# Loop through each category and split images\n",
    "for category_index in range(num_categories):\n",
    "    # Calculate the start and end index for the category\n",
    "    start_index = category_index * images_per_category\n",
    "    end_index = start_index + images_per_category\n",
    "    \n",
    "    # Get images for the current category\n",
    "    category_images = all_images[start_index:end_index]\n",
    "    random.shuffle(category_images)  # Shuffle images for randomness\n",
    "\n",
    "    # Calculate split sizes\n",
    "    num_images = len(category_images)\n",
    "    train_size = int(num_images * train_ratio)\n",
    "    val_size = int(num_images * val_ratio)\n",
    "    test_size = num_images - train_size - val_size  # Remaining for test\n",
    "\n",
    "    # Split images\n",
    "    train_images = category_images[:train_size]\n",
    "    val_images = category_images[train_size:train_size + val_size]\n",
    "    test_images = category_images[train_size + val_size:]\n",
    "\n",
    "    # Create category directories in train, val, and test folders\n",
    "    category_name = f\"category_{category_index + 1}\"  # You can modify this to your category naming\n",
    "    train_category_dir = os.path.join(train_dir, category_name)\n",
    "    val_category_dir = os.path.join(val_dir, category_name)\n",
    "    test_category_dir = os.path.join(test_dir, category_name)\n",
    "    \n",
    "    os.makedirs(train_category_dir, exist_ok=True)\n",
    "    os.makedirs(val_category_dir, exist_ok=True)\n",
    "    os.makedirs(test_category_dir, exist_ok=True)\n",
    "\n",
    "    # Copy images to respective folders\n",
    "    for split, split_images in zip(\n",
    "        [train_category_dir, val_category_dir, test_category_dir],\n",
    "        [train_images, val_images, test_images]\n",
    "    ):\n",
    "        for img in split_images:\n",
    "            src = os.path.join(source_dir, img)\n",
    "            dst = os.path.join(split, img)\n",
    "            shutil.copy(src, dst)\n",
    "\n",
    "print(\"Data has been successfully organized into train, validation, and test sets by category.\")\n"
   ]
  },
  {
   "cell_type": "code",
   "execution_count": null,
   "id": "f477d041-7ee1-4751-8a0e-6d068bf23ce4",
   "metadata": {},
   "outputs": [],
   "source": []
  }
 ],
 "metadata": {
  "kernelspec": {
   "display_name": "Python 3 (ipykernel)",
   "language": "python",
   "name": "python3"
  },
  "language_info": {
   "codemirror_mode": {
    "name": "ipython",
    "version": 3
   },
   "file_extension": ".py",
   "mimetype": "text/x-python",
   "name": "python",
   "nbconvert_exporter": "python",
   "pygments_lexer": "ipython3",
   "version": "3.11.9"
  }
 },
 "nbformat": 4,
 "nbformat_minor": 5
}
