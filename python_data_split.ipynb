{
 "cells": [
  {
   "cell_type": "code",
   "execution_count": 5,
   "id": "68d94c8d-6d3e-447e-a58e-08313183f92d",
   "metadata": {},
   "outputs": [],
   "source": [
    "import os\n",
    "import shutil\n",
    "import random"
   ]
  },
  {
   "cell_type": "markdown",
   "id": "10b014d4-0299-4e03-a5a8-f0d888499d42",
   "metadata": {},
   "source": [
    "# Organize data per label"
   ]
  },
  {
   "cell_type": "code",
   "execution_count": 111,
   "id": "170988d4-6613-46c8-bbed-34963e45b27e",
   "metadata": {},
   "outputs": [],
   "source": [
    "import pandas as pd\n",
    "filtered_metadata_limited_csv = pd.read_csv('/exchange/dspro01/group3/data/filtered_metadata_limited.csv', sep=',')"
   ]
  },
  {
   "cell_type": "code",
   "execution_count": 135,
   "id": "454316fa-29c8-49c5-a641-e878a2d4e154",
   "metadata": {},
   "outputs": [
    {
     "name": "stdout",
     "output_type": "stream",
     "text": [
      "['american black bear' 'bobcat' 'california ground squirrel' 'coyote'\n",
      " 'elk' 'empty' 'gray fox' 'mule deer' 'red deer' 'striped skunk'\n",
      " 'unidentified deer' 'wild boar']\n",
      "True\n"
     ]
    }
   ],
   "source": [
    "all_labels = filtered_metadata_limited_csv['common_name'].unique()\n",
    "print(all_labels)\n",
    "print(len(all_labels) == 12)"
   ]
  },
  {
   "cell_type": "code",
   "execution_count": 134,
   "id": "d502b6b8-84b0-469a-954a-92d63134623d",
   "metadata": {},
   "outputs": [
    {
     "name": "stdout",
     "output_type": "stream",
     "text": [
      "True\n"
     ]
    }
   ],
   "source": [
    "print(len(filtered_metadata_limited_csv) == (12*3000))"
   ]
  },
  {
   "cell_type": "code",
   "execution_count": 86,
   "id": "660b82a0-3e86-4eec-9c24-09fef31d5465",
   "metadata": {},
   "outputs": [],
   "source": [
    "source_dir = '/exchange/dspro01/group3/data/images'\n",
    "base_dir = '/exchange/dspro01/group3/data/img_per_category' "
   ]
  },
  {
   "cell_type": "code",
   "execution_count": 126,
   "id": "9d482dcc-76e8-4813-a8ec-6ea8c1a14015",
   "metadata": {},
   "outputs": [],
   "source": [
    "os.makedirs(source_dir, exist_ok=True)\n",
    "os.makedirs(base_dir, exist_ok=True)"
   ]
  },
  {
   "cell_type": "code",
   "execution_count": 118,
   "id": "ed3bedc1-a9ca-4cec-9aa8-edb13def892a",
   "metadata": {},
   "outputs": [],
   "source": [
    "# Create a dictionary to map filenames to labels\n",
    "label_dict = pd.Series(filtered_metadata_csv['common_name'].values, index=filtered_metadata_csv['id']).to_dict()"
   ]
  },
  {
   "cell_type": "code",
   "execution_count": 122,
   "id": "9ae0dd47-9e73-47b7-868b-2e05a21fd958",
   "metadata": {},
   "outputs": [
    {
     "name": "stdout",
     "output_type": "stream",
     "text": [
      "Number of images in all_images = 36000\n",
      "<class 'str'>\n"
     ]
    }
   ],
   "source": [
    "# List all image files in the source directory\n",
    "all_images = os.listdir(source_dir)\n",
    "print(f'Number of images in all_images = {len(all_images)}')\n",
    "print(type(all_images[0]))"
   ]
  },
  {
   "cell_type": "markdown",
   "id": "025d73bd-bdd7-49d0-bc97-894909ad1280",
   "metadata": {},
   "source": [
    "## <font color='red'>!! Next cell will empty the source_dir of its pictures !!</font>"
   ]
  },
  {
   "cell_type": "code",
   "execution_count": 123,
   "id": "27b92ee0-2296-4b93-aeaf-a830b4b56fb8",
   "metadata": {},
   "outputs": [
    {
     "name": "stdout",
     "output_type": "stream",
     "text": [
      "Images have been organized into label-based folders.\n"
     ]
    }
   ],
   "source": [
    "# Loop over each image in the source folder\n",
    "for img in all_images:\n",
    "    label = label_dict.get(img)  # Get the label for the image\n",
    "    \n",
    "    if label is not None:  # Check if label exists for the image\n",
    "        # Define the category (label) directory\n",
    "        label_dir = os.path.join(base_dir, label)\n",
    "        os.makedirs(label_dir, exist_ok=True)  # Create label folder if it doesn't exist\n",
    "\n",
    "        # Define source and destination paths for the image\n",
    "        src = os.path.join(source_dir, img)\n",
    "        dst = os.path.join(label_dir, img)\n",
    "\n",
    "        # Move the image to the respective label folder\n",
    "        shutil.move(src, dst)\n",
    "    else:\n",
    "        print(f\"Warning: No label found for {img}\")\n",
    "\n",
    "print(\"Images have been organized into label-based folders.\")"
   ]
  }
 ],
 "metadata": {
  "kernelspec": {
   "display_name": "Python 3 (ipykernel)",
   "language": "python",
   "name": "python3"
  },
  "language_info": {
   "codemirror_mode": {
    "name": "ipython",
    "version": 3
   },
   "file_extension": ".py",
   "mimetype": "text/x-python",
   "name": "python",
   "nbconvert_exporter": "python",
   "pygments_lexer": "ipython3",
   "version": "3.11.9"
  }
 },
 "nbformat": 4,
 "nbformat_minor": 5
}
