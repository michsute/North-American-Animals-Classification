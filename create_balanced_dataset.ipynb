{
 "cells": [
  {
   "cell_type": "code",
   "execution_count": 1,
   "id": "eb9c8554-4f04-4f41-b26c-03ae70df09c5",
   "metadata": {},
   "outputs": [],
   "source": [
    "import pandas as pd"
   ]
  },
  {
   "cell_type": "code",
   "execution_count": 2,
   "id": "da19f447-4ed4-4530-81be-278ab6eef7ea",
   "metadata": {
    "jupyter": {
     "source_hidden": true
    }
   },
   "outputs": [],
   "source": [
    "data = pd.read_csv(\"filtered_metadata.csv\", low_memory = False)"
   ]
  },
  {
   "cell_type": "code",
   "execution_count": 3,
   "id": "6a8057f5-2ccf-4a64-b245-948f125fd425",
   "metadata": {},
   "outputs": [
    {
     "data": {
      "text/html": [
       "<div>\n",
       "<style scoped>\n",
       "    .dataframe tbody tr th:only-of-type {\n",
       "        vertical-align: middle;\n",
       "    }\n",
       "\n",
       "    .dataframe tbody tr th {\n",
       "        vertical-align: top;\n",
       "    }\n",
       "\n",
       "    .dataframe thead th {\n",
       "        text-align: right;\n",
       "    }\n",
       "</style>\n",
       "<table border=\"1\" class=\"dataframe\">\n",
       "  <thead>\n",
       "    <tr style=\"text-align: right;\">\n",
       "      <th></th>\n",
       "      <th>seq_no</th>\n",
       "      <th>id</th>\n",
       "      <th>filename</th>\n",
       "      <th>study</th>\n",
       "      <th>location</th>\n",
       "      <th>width</th>\n",
       "      <th>height</th>\n",
       "      <th>category_id</th>\n",
       "      <th>name</th>\n",
       "      <th>genus</th>\n",
       "      <th>family</th>\n",
       "      <th>order</th>\n",
       "      <th>class</th>\n",
       "      <th>common_name</th>\n",
       "    </tr>\n",
       "  </thead>\n",
       "  <tbody>\n",
       "    <tr>\n",
       "      <th>0</th>\n",
       "      <td>0</td>\n",
       "      <td>2010_Unit150_Ivan097_img0001.jpg</td>\n",
       "      <td>part0/sub000/2010_Unit150_Ivan097_img0001.jpg</td>\n",
       "      <td>CPW</td>\n",
       "      <td>San Juan Mntns, Colorado</td>\n",
       "      <td>2048</td>\n",
       "      <td>1536</td>\n",
       "      <td>10</td>\n",
       "      <td>cervus elaphus</td>\n",
       "      <td>cervus</td>\n",
       "      <td>cervidae</td>\n",
       "      <td>artiodactyla</td>\n",
       "      <td>mammalia</td>\n",
       "      <td>red deer</td>\n",
       "    </tr>\n",
       "    <tr>\n",
       "      <th>1</th>\n",
       "      <td>1</td>\n",
       "      <td>2010_Unit150_Ivan097_img0002.jpg</td>\n",
       "      <td>part0/sub000/2010_Unit150_Ivan097_img0002.jpg</td>\n",
       "      <td>CPW</td>\n",
       "      <td>San Juan Mntns, Colorado</td>\n",
       "      <td>2048</td>\n",
       "      <td>1536</td>\n",
       "      <td>10</td>\n",
       "      <td>cervus elaphus</td>\n",
       "      <td>cervus</td>\n",
       "      <td>cervidae</td>\n",
       "      <td>artiodactyla</td>\n",
       "      <td>mammalia</td>\n",
       "      <td>red deer</td>\n",
       "    </tr>\n",
       "    <tr>\n",
       "      <th>2</th>\n",
       "      <td>2</td>\n",
       "      <td>2010_Unit150_Ivan097_img0003.jpg</td>\n",
       "      <td>part0/sub000/2010_Unit150_Ivan097_img0003.jpg</td>\n",
       "      <td>CPW</td>\n",
       "      <td>San Juan Mntns, Colorado</td>\n",
       "      <td>2048</td>\n",
       "      <td>1536</td>\n",
       "      <td>10</td>\n",
       "      <td>cervus elaphus</td>\n",
       "      <td>cervus</td>\n",
       "      <td>cervidae</td>\n",
       "      <td>artiodactyla</td>\n",
       "      <td>mammalia</td>\n",
       "      <td>red deer</td>\n",
       "    </tr>\n",
       "    <tr>\n",
       "      <th>3</th>\n",
       "      <td>3</td>\n",
       "      <td>2010_Unit150_Ivan097_img0004.jpg</td>\n",
       "      <td>part0/sub000/2010_Unit150_Ivan097_img0004.jpg</td>\n",
       "      <td>CPW</td>\n",
       "      <td>San Juan Mntns, Colorado</td>\n",
       "      <td>2048</td>\n",
       "      <td>1536</td>\n",
       "      <td>10</td>\n",
       "      <td>cervus elaphus</td>\n",
       "      <td>cervus</td>\n",
       "      <td>cervidae</td>\n",
       "      <td>artiodactyla</td>\n",
       "      <td>mammalia</td>\n",
       "      <td>red deer</td>\n",
       "    </tr>\n",
       "    <tr>\n",
       "      <th>4</th>\n",
       "      <td>4</td>\n",
       "      <td>2010_Unit150_Ivan097_img0005.jpg</td>\n",
       "      <td>part0/sub000/2010_Unit150_Ivan097_img0005.jpg</td>\n",
       "      <td>CPW</td>\n",
       "      <td>San Juan Mntns, Colorado</td>\n",
       "      <td>2048</td>\n",
       "      <td>1536</td>\n",
       "      <td>10</td>\n",
       "      <td>cervus elaphus</td>\n",
       "      <td>cervus</td>\n",
       "      <td>cervidae</td>\n",
       "      <td>artiodactyla</td>\n",
       "      <td>mammalia</td>\n",
       "      <td>red deer</td>\n",
       "    </tr>\n",
       "  </tbody>\n",
       "</table>\n",
       "</div>"
      ],
      "text/plain": [
       "   seq_no                                id  \\\n",
       "0       0  2010_Unit150_Ivan097_img0001.jpg   \n",
       "1       1  2010_Unit150_Ivan097_img0002.jpg   \n",
       "2       2  2010_Unit150_Ivan097_img0003.jpg   \n",
       "3       3  2010_Unit150_Ivan097_img0004.jpg   \n",
       "4       4  2010_Unit150_Ivan097_img0005.jpg   \n",
       "\n",
       "                                        filename study  \\\n",
       "0  part0/sub000/2010_Unit150_Ivan097_img0001.jpg   CPW   \n",
       "1  part0/sub000/2010_Unit150_Ivan097_img0002.jpg   CPW   \n",
       "2  part0/sub000/2010_Unit150_Ivan097_img0003.jpg   CPW   \n",
       "3  part0/sub000/2010_Unit150_Ivan097_img0004.jpg   CPW   \n",
       "4  part0/sub000/2010_Unit150_Ivan097_img0005.jpg   CPW   \n",
       "\n",
       "                   location  width  height  category_id            name  \\\n",
       "0  San Juan Mntns, Colorado   2048    1536           10  cervus elaphus   \n",
       "1  San Juan Mntns, Colorado   2048    1536           10  cervus elaphus   \n",
       "2  San Juan Mntns, Colorado   2048    1536           10  cervus elaphus   \n",
       "3  San Juan Mntns, Colorado   2048    1536           10  cervus elaphus   \n",
       "4  San Juan Mntns, Colorado   2048    1536           10  cervus elaphus   \n",
       "\n",
       "    genus    family         order     class common_name  \n",
       "0  cervus  cervidae  artiodactyla  mammalia    red deer  \n",
       "1  cervus  cervidae  artiodactyla  mammalia    red deer  \n",
       "2  cervus  cervidae  artiodactyla  mammalia    red deer  \n",
       "3  cervus  cervidae  artiodactyla  mammalia    red deer  \n",
       "4  cervus  cervidae  artiodactyla  mammalia    red deer  "
      ]
     },
     "execution_count": 3,
     "metadata": {},
     "output_type": "execute_result"
    }
   ],
   "source": [
    "data.head()"
   ]
  },
  {
   "cell_type": "code",
   "execution_count": 4,
   "id": "a4397bbc-f9ea-4007-b843-e18e2f663084",
   "metadata": {},
   "outputs": [],
   "source": [
    "# Anzahl der Einträge pro Kategorie festlegen\n",
    "n = 3000"
   ]
  },
  {
   "cell_type": "code",
   "execution_count": 7,
   "id": "6c43ae5a-d9da-43d7-bdc2-16503d4c85ca",
   "metadata": {},
   "outputs": [
    {
     "name": "stderr",
     "output_type": "stream",
     "text": [
      "/tmp/ipykernel_968748/2598849122.py:4: DeprecationWarning: DataFrameGroupBy.apply operated on the grouping columns. This behavior is deprecated, and in a future version of pandas the grouping columns will be excluded from the operation. Either pass `include_groups=False` to exclude the groupings or explicitly select the grouping columns after groupby to silence this warning.\n",
      "  .apply(lambda x: x.sample(n=min(len(x), n)))\n"
     ]
    }
   ],
   "source": [
    "# Für jede Kategorie nur n zufällige Einträge auswählen\n",
    "filtered_data_limited = (\n",
    "    data.groupby('common_name')\n",
    "    .apply(lambda x: x.sample(n=min(len(x), n)))\n",
    "    .reset_index(drop=True)[data.columns]\n",
    ")\n"
   ]
  },
  {
   "cell_type": "code",
   "execution_count": 8,
   "id": "1b803182-e122-4436-b14f-3cefcfd70860",
   "metadata": {},
   "outputs": [],
   "source": [
    "df=filtered_data_limited"
   ]
  },
  {
   "cell_type": "code",
   "execution_count": 9,
   "id": "2fdb0ec5-b37c-4443-8bc9-cb3ff44c37cb",
   "metadata": {},
   "outputs": [
    {
     "name": "stdout",
     "output_type": "stream",
     "text": [
      "common_name\n",
      "american black bear           3000\n",
      "bobcat                        3000\n",
      "california ground squirrel    3000\n",
      "coyote                        3000\n",
      "elk                           3000\n",
      "empty                         3000\n",
      "gray fox                      3000\n",
      "mule deer                     3000\n",
      "red deer                      3000\n",
      "striped skunk                 3000\n",
      "unidentified deer             3000\n",
      "wild boar                     3000\n",
      "Name: count, dtype: int64\n"
     ]
    }
   ],
   "source": [
    "anzahl_pro_kategorie = df['common_name'].value_counts()\n",
    "\n",
    "# Ergebnisse anzeigen\n",
    "print(anzahl_pro_kategorie)"
   ]
  },
  {
   "cell_type": "code",
   "execution_count": 10,
   "id": "b1b9e15e-27ae-4ba6-a4fb-1e64245120a6",
   "metadata": {},
   "outputs": [],
   "source": [
    "# Das Ergebnis in eine neue CSV-Datei speichern\n",
    "filtered_data_limited.to_csv(\"filtered_metadata_limited.csv\", index=False)"
   ]
  },
  {
   "cell_type": "code",
   "execution_count": null,
   "id": "99bda2d5-b919-4452-bae4-6a8dd8a07f82",
   "metadata": {},
   "outputs": [],
   "source": []
  }
 ],
 "metadata": {
  "kernelspec": {
   "display_name": "Python 3 (ipykernel)",
   "language": "python",
   "name": "python3"
  },
  "language_info": {
   "codemirror_mode": {
    "name": "ipython",
    "version": 3
   },
   "file_extension": ".py",
   "mimetype": "text/x-python",
   "name": "python",
   "nbconvert_exporter": "python",
   "pygments_lexer": "ipython3",
   "version": "3.11.9"
  }
 },
 "nbformat": 4,
 "nbformat_minor": 5
}
