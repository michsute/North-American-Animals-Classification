{
 "cells": [
  {
   "cell_type": "code",
   "execution_count": 1,
   "id": "a6be623e-4573-4df6-9707-da2f4672e082",
   "metadata": {},
   "outputs": [],
   "source": [
    "import torch\n",
    "from torchvision import datasets, transforms\n",
    "from torch.utils.data import DataLoader, random_split\n",
    "from torchvision import models\n"
   ]
  },
  {
   "cell_type": "code",
   "execution_count": 2,
   "id": "6216b31b-7007-422b-aac1-ab05f91e18ac",
   "metadata": {},
   "outputs": [],
   "source": [
    "# Set random seed for reproducibility\n",
    "torch.manual_seed(42)\n",
    "\n",
    "# Define transformations\n",
    "transform = transforms.Compose([\n",
    "    transforms.Resize((224, 224)),\n",
    "    transforms.ToTensor(),\n",
    "    transforms.Normalize([0.485, 0.456, 0.406], [0.229, 0.224, 0.225])\n",
    "])\n",
    "\n",
    "# Load all images from the main directory\n",
    "full_dataset = datasets.ImageFolder(root='/exchange/dspro01/group3/data/train', transform=transform)\n",
    "\n",
    "# Define the train-validation split ratio\n",
    "train_size = int(0.8 * len(full_dataset))  # 80% for training\n",
    "val_size = len(full_dataset) - train_size  # Remaining 20% for validation\n",
    "\n",
    "# Split dataset\n",
    "train_dataset, val_dataset = random_split(full_dataset, [train_size, val_size])\n",
    "\n",
    "# Data loaders\n",
    "train_loader = DataLoader(train_dataset, batch_size=32, shuffle=True, num_workers=4)\n",
    "val_loader = DataLoader(val_dataset, batch_size=32, shuffle=False, num_workers=4)"
   ]
  },
  {
   "cell_type": "code",
   "execution_count": 3,
   "id": "347b884d-0698-4b61-b751-4dd36fcfa309",
   "metadata": {},
   "outputs": [],
   "source": [
    "from torchvision.models import EfficientNet_B0_Weights\n",
    "\n",
    "# Load EfficientNet model (using EfficientNet-B0 as example)\n",
    "model = models.efficientnet_b0(weights=EfficientNet_B0_Weights.IMAGENET1K_V1)\n",
    "\n",
    "# Modify the output layer for 12 classes\n",
    "model.classifier[1] = torch.nn.Linear(model.classifier[1].in_features, 12)"
   ]
  },
  {
   "cell_type": "code",
   "execution_count": 4,
   "id": "5f93f196-6280-4080-9258-29fc184790e5",
   "metadata": {},
   "outputs": [],
   "source": [
    "import torch.optim as optim\n",
    "import torch.nn as nn\n",
    "\n",
    "# Loss function and optimizer\n",
    "criterion = nn.CrossEntropyLoss()\n",
    "optimizer = optim.Adam(model.parameters(), lr=0.001)"
   ]
  },
  {
   "cell_type": "code",
   "execution_count": 5,
   "id": "6300c7fa-779b-4173-9721-9a9959d23500",
   "metadata": {},
   "outputs": [
    {
     "name": "stdout",
     "output_type": "stream",
     "text": [
      "Epoch [1/10], Loss: 0.6737, Accuracy: 83.35%\n",
      "Best model saved!\n",
      "Epoch [2/10], Loss: 0.4231, Accuracy: 87.33%\n",
      "Best model saved!\n",
      "Epoch [3/10], Loss: 0.3311, Accuracy: 87.38%\n",
      "Best model saved!\n",
      "Epoch [4/10], Loss: 0.2806, Accuracy: 87.95%\n",
      "Best model saved!\n",
      "Epoch [5/10], Loss: 0.2397, Accuracy: 88.54%\n",
      "Best model saved!\n",
      "Epoch [6/10], Loss: 0.2039, Accuracy: 89.11%\n",
      "Best model saved!\n",
      "Epoch [7/10], Loss: 0.1710, Accuracy: 89.27%\n",
      "Best model saved!\n",
      "Epoch [8/10], Loss: 0.1607, Accuracy: 88.58%\n",
      "Epoch [9/10], Loss: 0.1384, Accuracy: 89.44%\n",
      "Best model saved!\n",
      "Epoch [10/10], Loss: 0.1312, Accuracy: 89.81%\n",
      "Best model saved!\n"
     ]
    }
   ],
   "source": [
    "device = torch.device('cuda' if torch.cuda.is_available() else 'cpu')\n",
    "model = model.to(device)\n",
    "\n",
    "num_epochs = 10  # Adjust based on your needs\n",
    "best_accuracy = 0.0\n",
    "\n",
    "for epoch in range(num_epochs):\n",
    "    # Training phase\n",
    "    model.train()\n",
    "    running_loss = 0.0\n",
    "    for inputs, labels in train_loader:\n",
    "        inputs, labels = inputs.to(device), labels.to(device)\n",
    "        \n",
    "        optimizer.zero_grad()\n",
    "        outputs = model(inputs)\n",
    "        loss = criterion(outputs, labels)\n",
    "        loss.backward()\n",
    "        optimizer.step()\n",
    "        \n",
    "        running_loss += loss.item()\n",
    "    \n",
    "    # Validation phase\n",
    "    model.eval()\n",
    "    correct = 0\n",
    "    total = 0\n",
    "    with torch.no_grad():\n",
    "        for inputs, labels in val_loader:\n",
    "            inputs, labels = inputs.to(device), labels.to(device)\n",
    "            outputs = model(inputs)\n",
    "            _, predicted = torch.max(outputs, 1)\n",
    "            total += labels.size(0)\n",
    "            correct += (predicted == labels).sum().item()\n",
    "    \n",
    "    accuracy = 100 * correct / total\n",
    "    print(f'Epoch [{epoch+1}/{num_epochs}], Loss: {running_loss/len(train_loader):.4f}, Accuracy: {accuracy:.2f}%')\n",
    "    \n",
    "    # Save the best model\n",
    "    if accuracy > best_accuracy:\n",
    "        best_accuracy = accuracy\n",
    "        torch.save(model.state_dict(), 'best_model.pth')\n",
    "        print(\"Best model saved!\")\n"
   ]
  },
  {
   "cell_type": "code",
   "execution_count": null,
   "id": "243264bf-1f1a-4450-aedf-5adbd146625a",
   "metadata": {},
   "outputs": [],
   "source": []
  }
 ],
 "metadata": {
  "kernelspec": {
   "display_name": "Python 3 (ipykernel)",
   "language": "python",
   "name": "python3"
  },
  "language_info": {
   "codemirror_mode": {
    "name": "ipython",
    "version": 3
   },
   "file_extension": ".py",
   "mimetype": "text/x-python",
   "name": "python",
   "nbconvert_exporter": "python",
   "pygments_lexer": "ipython3",
   "version": "3.11.9"
  }
 },
 "nbformat": 4,
 "nbformat_minor": 5
}
