{
 "cells": [
  {
   "cell_type": "code",
   "execution_count": 3,
   "id": "d1f2271b-e8c8-439a-a8c0-ca7d574d315b",
   "metadata": {},
   "outputs": [
    {
     "name": "stdout",
     "output_type": "stream",
     "text": [
      "Downloading https://storage.googleapis.com/public-datasets-lila/nacti/nacti_metadata.csv.zip...\n",
      "Extracting files: ['nacti_metadata.csv']\n",
      "File downloaded and extracted successfully to /exchange/dspro01/group3/data/nacti_metadata.csv.\n"
     ]
    }
   ],
   "source": [
    "import pandas as pd\n",
    "import os\n",
    "\n",
    "# CSV-Datei laden und sicherstellen, dass 'filename' als string behandelt wird\n",
    "data = pd.read_csv(\"/exchange/dspro01/group3/data/part2.csv\", dtype={'filename': str}, low_memory=False)\n",
    "\n",
    "# Zielverzeichnis für die Bilder\n",
    "target_dir = \"/exchange/dspro01/group3/data/images\"\n",
    "os.makedirs(target_dir, exist_ok=True)\n",
    "\n",
    "# Cloud-Bucket-Basis-URL\n",
    "bucket_base_url = \"gs://public-datasets-lila/nacti-unzipped/\"\n",
    "\n",
    "# Gesamtanzahl der Dateien für die Fortschrittsanzeige\n",
    "total_files = len(data)\n",
    "\n",
    "# Kopiere jedes Bild mit gsutil und zeige den Fortschritt an\n",
    "for index, row in data.iterrows():\n",
    "    # Quell-URL des Bildes im Cloud-Bucket\n",
    "    filename = row['filename']\n",
    "    if pd.notna(filename):  # Überprüfen, ob der filename-Wert nicht leer ist\n",
    "        source_url = bucket_base_url + filename\n",
    "\n",
    "        # Zielpfad\n",
    "        target_path = os.path.join(target_dir, os.path.basename(filename))\n",
    "\n",
    "        # Überprüfen, ob die Datei bereits kopiert wurde\n",
    "        if not os.path.exists(target_path):\n",
    "            # gsutil-Befehl zum Kopieren\n",
    "            result = os.system(f\"gsutil cp {source_url} {target_path}\")\n",
    "\n",
    "            # Überprüfen, ob der Befehl erfolgreich war\n",
    "            if result == 0:\n",
    "                # Fortschritt berechnen und anzeigen\n",
    "                progress = (index + 1) / total_files * 100\n",
    "                print(f\"{progress:.2f}% geladen\")\n",
    "            else:\n",
    "                print(f\"Fehler beim Kopieren von {filename}: gsutil returned {result}\")\n",
    "\n",
    "print(\"Kopieren abgeschlossen.\")\n"
   ]
  },
  {
   "cell_type": "code",
   "execution_count": null,
   "id": "d840afd4-abce-4476-ac77-3be68688783c",
   "metadata": {},
   "outputs": [],
   "source": []
  }
 ],
 "metadata": {
  "kernelspec": {
   "display_name": "Python 3 (ipykernel)",
   "language": "python",
   "name": "python3"
  },
  "language_info": {
   "codemirror_mode": {
    "name": "ipython",
    "version": 3
   },
   "file_extension": ".py",
   "mimetype": "text/x-python",
   "name": "python",
   "nbconvert_exporter": "python",
   "pygments_lexer": "ipython3",
   "version": "3.11.10"
  }
 },
 "nbformat": 4,
 "nbformat_minor": 5
}
